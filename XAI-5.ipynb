{
  "nbformat": 4,
  "nbformat_minor": 0,
  "metadata": {
    "colab": {
      "provenance": [],
      "gpuType": "T4"
    },
    "kernelspec": {
      "name": "python3",
      "display_name": "Python 3"
    },
    "language_info": {
      "name": "python"
    },
    "accelerator": "GPU",
    "widgets": {
      "application/vnd.jupyter.widget-state+json": {
        "74fd05ef26e04b9cb66b1790f67f28fe": {
          "model_module": "@jupyter-widgets/controls",
          "model_name": "HBoxModel",
          "model_module_version": "1.5.0",
          "state": {
            "_dom_classes": [],
            "_model_module": "@jupyter-widgets/controls",
            "_model_module_version": "1.5.0",
            "_model_name": "HBoxModel",
            "_view_count": null,
            "_view_module": "@jupyter-widgets/controls",
            "_view_module_version": "1.5.0",
            "_view_name": "HBoxView",
            "box_style": "",
            "children": [
              "IPY_MODEL_566febe30fba4b368b3d6eddb1045c4e",
              "IPY_MODEL_c19cc29a89004c1da91c811a095b4936",
              "IPY_MODEL_6ef75cfbff474261931bdb853acb6c33"
            ],
            "layout": "IPY_MODEL_5fa0466cc95d4a8184708aef794d7cff"
          }
        },
        "566febe30fba4b368b3d6eddb1045c4e": {
          "model_module": "@jupyter-widgets/controls",
          "model_name": "HTMLModel",
          "model_module_version": "1.5.0",
          "state": {
            "_dom_classes": [],
            "_model_module": "@jupyter-widgets/controls",
            "_model_module_version": "1.5.0",
            "_model_name": "HTMLModel",
            "_view_count": null,
            "_view_module": "@jupyter-widgets/controls",
            "_view_module_version": "1.5.0",
            "_view_name": "HTMLView",
            "description": "",
            "description_tooltip": null,
            "layout": "IPY_MODEL_a48d43c5e3a74b3e8059c4ba8a8988b5",
            "placeholder": "​",
            "style": "IPY_MODEL_8cc1921fc064441a958008885c7bfd82",
            "value": "tokenizer_config.json: 100%"
          }
        },
        "c19cc29a89004c1da91c811a095b4936": {
          "model_module": "@jupyter-widgets/controls",
          "model_name": "FloatProgressModel",
          "model_module_version": "1.5.0",
          "state": {
            "_dom_classes": [],
            "_model_module": "@jupyter-widgets/controls",
            "_model_module_version": "1.5.0",
            "_model_name": "FloatProgressModel",
            "_view_count": null,
            "_view_module": "@jupyter-widgets/controls",
            "_view_module_version": "1.5.0",
            "_view_name": "ProgressView",
            "bar_style": "success",
            "description": "",
            "description_tooltip": null,
            "layout": "IPY_MODEL_dabb22fa96514565a662b4f8a7b6bb5e",
            "max": 26,
            "min": 0,
            "orientation": "horizontal",
            "style": "IPY_MODEL_c4529962d724410ab923db1476a8701d",
            "value": 26
          }
        },
        "6ef75cfbff474261931bdb853acb6c33": {
          "model_module": "@jupyter-widgets/controls",
          "model_name": "HTMLModel",
          "model_module_version": "1.5.0",
          "state": {
            "_dom_classes": [],
            "_model_module": "@jupyter-widgets/controls",
            "_model_module_version": "1.5.0",
            "_model_name": "HTMLModel",
            "_view_count": null,
            "_view_module": "@jupyter-widgets/controls",
            "_view_module_version": "1.5.0",
            "_view_name": "HTMLView",
            "description": "",
            "description_tooltip": null,
            "layout": "IPY_MODEL_2a7f210f13224f50ba4ce3a3ccc2a223",
            "placeholder": "​",
            "style": "IPY_MODEL_47050a69b12c4e31b466d0f60f0670c6",
            "value": " 26.0/26.0 [00:00&lt;00:00, 549B/s]"
          }
        },
        "5fa0466cc95d4a8184708aef794d7cff": {
          "model_module": "@jupyter-widgets/base",
          "model_name": "LayoutModel",
          "model_module_version": "1.2.0",
          "state": {
            "_model_module": "@jupyter-widgets/base",
            "_model_module_version": "1.2.0",
            "_model_name": "LayoutModel",
            "_view_count": null,
            "_view_module": "@jupyter-widgets/base",
            "_view_module_version": "1.2.0",
            "_view_name": "LayoutView",
            "align_content": null,
            "align_items": null,
            "align_self": null,
            "border": null,
            "bottom": null,
            "display": null,
            "flex": null,
            "flex_flow": null,
            "grid_area": null,
            "grid_auto_columns": null,
            "grid_auto_flow": null,
            "grid_auto_rows": null,
            "grid_column": null,
            "grid_gap": null,
            "grid_row": null,
            "grid_template_areas": null,
            "grid_template_columns": null,
            "grid_template_rows": null,
            "height": null,
            "justify_content": null,
            "justify_items": null,
            "left": null,
            "margin": null,
            "max_height": null,
            "max_width": null,
            "min_height": null,
            "min_width": null,
            "object_fit": null,
            "object_position": null,
            "order": null,
            "overflow": null,
            "overflow_x": null,
            "overflow_y": null,
            "padding": null,
            "right": null,
            "top": null,
            "visibility": null,
            "width": null
          }
        },
        "a48d43c5e3a74b3e8059c4ba8a8988b5": {
          "model_module": "@jupyter-widgets/base",
          "model_name": "LayoutModel",
          "model_module_version": "1.2.0",
          "state": {
            "_model_module": "@jupyter-widgets/base",
            "_model_module_version": "1.2.0",
            "_model_name": "LayoutModel",
            "_view_count": null,
            "_view_module": "@jupyter-widgets/base",
            "_view_module_version": "1.2.0",
            "_view_name": "LayoutView",
            "align_content": null,
            "align_items": null,
            "align_self": null,
            "border": null,
            "bottom": null,
            "display": null,
            "flex": null,
            "flex_flow": null,
            "grid_area": null,
            "grid_auto_columns": null,
            "grid_auto_flow": null,
            "grid_auto_rows": null,
            "grid_column": null,
            "grid_gap": null,
            "grid_row": null,
            "grid_template_areas": null,
            "grid_template_columns": null,
            "grid_template_rows": null,
            "height": null,
            "justify_content": null,
            "justify_items": null,
            "left": null,
            "margin": null,
            "max_height": null,
            "max_width": null,
            "min_height": null,
            "min_width": null,
            "object_fit": null,
            "object_position": null,
            "order": null,
            "overflow": null,
            "overflow_x": null,
            "overflow_y": null,
            "padding": null,
            "right": null,
            "top": null,
            "visibility": null,
            "width": null
          }
        },
        "8cc1921fc064441a958008885c7bfd82": {
          "model_module": "@jupyter-widgets/controls",
          "model_name": "DescriptionStyleModel",
          "model_module_version": "1.5.0",
          "state": {
            "_model_module": "@jupyter-widgets/controls",
            "_model_module_version": "1.5.0",
            "_model_name": "DescriptionStyleModel",
            "_view_count": null,
            "_view_module": "@jupyter-widgets/base",
            "_view_module_version": "1.2.0",
            "_view_name": "StyleView",
            "description_width": ""
          }
        },
        "dabb22fa96514565a662b4f8a7b6bb5e": {
          "model_module": "@jupyter-widgets/base",
          "model_name": "LayoutModel",
          "model_module_version": "1.2.0",
          "state": {
            "_model_module": "@jupyter-widgets/base",
            "_model_module_version": "1.2.0",
            "_model_name": "LayoutModel",
            "_view_count": null,
            "_view_module": "@jupyter-widgets/base",
            "_view_module_version": "1.2.0",
            "_view_name": "LayoutView",
            "align_content": null,
            "align_items": null,
            "align_self": null,
            "border": null,
            "bottom": null,
            "display": null,
            "flex": null,
            "flex_flow": null,
            "grid_area": null,
            "grid_auto_columns": null,
            "grid_auto_flow": null,
            "grid_auto_rows": null,
            "grid_column": null,
            "grid_gap": null,
            "grid_row": null,
            "grid_template_areas": null,
            "grid_template_columns": null,
            "grid_template_rows": null,
            "height": null,
            "justify_content": null,
            "justify_items": null,
            "left": null,
            "margin": null,
            "max_height": null,
            "max_width": null,
            "min_height": null,
            "min_width": null,
            "object_fit": null,
            "object_position": null,
            "order": null,
            "overflow": null,
            "overflow_x": null,
            "overflow_y": null,
            "padding": null,
            "right": null,
            "top": null,
            "visibility": null,
            "width": null
          }
        },
        "c4529962d724410ab923db1476a8701d": {
          "model_module": "@jupyter-widgets/controls",
          "model_name": "ProgressStyleModel",
          "model_module_version": "1.5.0",
          "state": {
            "_model_module": "@jupyter-widgets/controls",
            "_model_module_version": "1.5.0",
            "_model_name": "ProgressStyleModel",
            "_view_count": null,
            "_view_module": "@jupyter-widgets/base",
            "_view_module_version": "1.2.0",
            "_view_name": "StyleView",
            "bar_color": null,
            "description_width": ""
          }
        },
        "2a7f210f13224f50ba4ce3a3ccc2a223": {
          "model_module": "@jupyter-widgets/base",
          "model_name": "LayoutModel",
          "model_module_version": "1.2.0",
          "state": {
            "_model_module": "@jupyter-widgets/base",
            "_model_module_version": "1.2.0",
            "_model_name": "LayoutModel",
            "_view_count": null,
            "_view_module": "@jupyter-widgets/base",
            "_view_module_version": "1.2.0",
            "_view_name": "LayoutView",
            "align_content": null,
            "align_items": null,
            "align_self": null,
            "border": null,
            "bottom": null,
            "display": null,
            "flex": null,
            "flex_flow": null,
            "grid_area": null,
            "grid_auto_columns": null,
            "grid_auto_flow": null,
            "grid_auto_rows": null,
            "grid_column": null,
            "grid_gap": null,
            "grid_row": null,
            "grid_template_areas": null,
            "grid_template_columns": null,
            "grid_template_rows": null,
            "height": null,
            "justify_content": null,
            "justify_items": null,
            "left": null,
            "margin": null,
            "max_height": null,
            "max_width": null,
            "min_height": null,
            "min_width": null,
            "object_fit": null,
            "object_position": null,
            "order": null,
            "overflow": null,
            "overflow_x": null,
            "overflow_y": null,
            "padding": null,
            "right": null,
            "top": null,
            "visibility": null,
            "width": null
          }
        },
        "47050a69b12c4e31b466d0f60f0670c6": {
          "model_module": "@jupyter-widgets/controls",
          "model_name": "DescriptionStyleModel",
          "model_module_version": "1.5.0",
          "state": {
            "_model_module": "@jupyter-widgets/controls",
            "_model_module_version": "1.5.0",
            "_model_name": "DescriptionStyleModel",
            "_view_count": null,
            "_view_module": "@jupyter-widgets/base",
            "_view_module_version": "1.2.0",
            "_view_name": "StyleView",
            "description_width": ""
          }
        },
        "b8038e203ea14e40b3a18afacea8f3ed": {
          "model_module": "@jupyter-widgets/controls",
          "model_name": "HBoxModel",
          "model_module_version": "1.5.0",
          "state": {
            "_dom_classes": [],
            "_model_module": "@jupyter-widgets/controls",
            "_model_module_version": "1.5.0",
            "_model_name": "HBoxModel",
            "_view_count": null,
            "_view_module": "@jupyter-widgets/controls",
            "_view_module_version": "1.5.0",
            "_view_name": "HBoxView",
            "box_style": "",
            "children": [
              "IPY_MODEL_4ef3219eed784e4fb13d031eb2f3945a",
              "IPY_MODEL_2346c8772e224b9fa65359b17bac2e45",
              "IPY_MODEL_2641ba46a6c74d248b9cd929b5c1b27b"
            ],
            "layout": "IPY_MODEL_c41eaf7b40764b489fe7f3a2adb57694"
          }
        },
        "4ef3219eed784e4fb13d031eb2f3945a": {
          "model_module": "@jupyter-widgets/controls",
          "model_name": "HTMLModel",
          "model_module_version": "1.5.0",
          "state": {
            "_dom_classes": [],
            "_model_module": "@jupyter-widgets/controls",
            "_model_module_version": "1.5.0",
            "_model_name": "HTMLModel",
            "_view_count": null,
            "_view_module": "@jupyter-widgets/controls",
            "_view_module_version": "1.5.0",
            "_view_name": "HTMLView",
            "description": "",
            "description_tooltip": null,
            "layout": "IPY_MODEL_748f64ec71614fd591ef659825d70cd2",
            "placeholder": "​",
            "style": "IPY_MODEL_02e33f22fb55475ebbfcdd373cde6a0a",
            "value": "vocab.json: 100%"
          }
        },
        "2346c8772e224b9fa65359b17bac2e45": {
          "model_module": "@jupyter-widgets/controls",
          "model_name": "FloatProgressModel",
          "model_module_version": "1.5.0",
          "state": {
            "_dom_classes": [],
            "_model_module": "@jupyter-widgets/controls",
            "_model_module_version": "1.5.0",
            "_model_name": "FloatProgressModel",
            "_view_count": null,
            "_view_module": "@jupyter-widgets/controls",
            "_view_module_version": "1.5.0",
            "_view_name": "ProgressView",
            "bar_style": "success",
            "description": "",
            "description_tooltip": null,
            "layout": "IPY_MODEL_4d7b365ec99c4337b2a2c27f5f9c0290",
            "max": 1042301,
            "min": 0,
            "orientation": "horizontal",
            "style": "IPY_MODEL_4fc092d2ed8d4cfab9432c4ed9bec379",
            "value": 1042301
          }
        },
        "2641ba46a6c74d248b9cd929b5c1b27b": {
          "model_module": "@jupyter-widgets/controls",
          "model_name": "HTMLModel",
          "model_module_version": "1.5.0",
          "state": {
            "_dom_classes": [],
            "_model_module": "@jupyter-widgets/controls",
            "_model_module_version": "1.5.0",
            "_model_name": "HTMLModel",
            "_view_count": null,
            "_view_module": "@jupyter-widgets/controls",
            "_view_module_version": "1.5.0",
            "_view_name": "HTMLView",
            "description": "",
            "description_tooltip": null,
            "layout": "IPY_MODEL_51458610cf4e438bb7ebd959b6b981c6",
            "placeholder": "​",
            "style": "IPY_MODEL_9caeb4ae3a184e7d90df4894d1061495",
            "value": " 1.04M/1.04M [00:00&lt;00:00, 3.24MB/s]"
          }
        },
        "c41eaf7b40764b489fe7f3a2adb57694": {
          "model_module": "@jupyter-widgets/base",
          "model_name": "LayoutModel",
          "model_module_version": "1.2.0",
          "state": {
            "_model_module": "@jupyter-widgets/base",
            "_model_module_version": "1.2.0",
            "_model_name": "LayoutModel",
            "_view_count": null,
            "_view_module": "@jupyter-widgets/base",
            "_view_module_version": "1.2.0",
            "_view_name": "LayoutView",
            "align_content": null,
            "align_items": null,
            "align_self": null,
            "border": null,
            "bottom": null,
            "display": null,
            "flex": null,
            "flex_flow": null,
            "grid_area": null,
            "grid_auto_columns": null,
            "grid_auto_flow": null,
            "grid_auto_rows": null,
            "grid_column": null,
            "grid_gap": null,
            "grid_row": null,
            "grid_template_areas": null,
            "grid_template_columns": null,
            "grid_template_rows": null,
            "height": null,
            "justify_content": null,
            "justify_items": null,
            "left": null,
            "margin": null,
            "max_height": null,
            "max_width": null,
            "min_height": null,
            "min_width": null,
            "object_fit": null,
            "object_position": null,
            "order": null,
            "overflow": null,
            "overflow_x": null,
            "overflow_y": null,
            "padding": null,
            "right": null,
            "top": null,
            "visibility": null,
            "width": null
          }
        },
        "748f64ec71614fd591ef659825d70cd2": {
          "model_module": "@jupyter-widgets/base",
          "model_name": "LayoutModel",
          "model_module_version": "1.2.0",
          "state": {
            "_model_module": "@jupyter-widgets/base",
            "_model_module_version": "1.2.0",
            "_model_name": "LayoutModel",
            "_view_count": null,
            "_view_module": "@jupyter-widgets/base",
            "_view_module_version": "1.2.0",
            "_view_name": "LayoutView",
            "align_content": null,
            "align_items": null,
            "align_self": null,
            "border": null,
            "bottom": null,
            "display": null,
            "flex": null,
            "flex_flow": null,
            "grid_area": null,
            "grid_auto_columns": null,
            "grid_auto_flow": null,
            "grid_auto_rows": null,
            "grid_column": null,
            "grid_gap": null,
            "grid_row": null,
            "grid_template_areas": null,
            "grid_template_columns": null,
            "grid_template_rows": null,
            "height": null,
            "justify_content": null,
            "justify_items": null,
            "left": null,
            "margin": null,
            "max_height": null,
            "max_width": null,
            "min_height": null,
            "min_width": null,
            "object_fit": null,
            "object_position": null,
            "order": null,
            "overflow": null,
            "overflow_x": null,
            "overflow_y": null,
            "padding": null,
            "right": null,
            "top": null,
            "visibility": null,
            "width": null
          }
        },
        "02e33f22fb55475ebbfcdd373cde6a0a": {
          "model_module": "@jupyter-widgets/controls",
          "model_name": "DescriptionStyleModel",
          "model_module_version": "1.5.0",
          "state": {
            "_model_module": "@jupyter-widgets/controls",
            "_model_module_version": "1.5.0",
            "_model_name": "DescriptionStyleModel",
            "_view_count": null,
            "_view_module": "@jupyter-widgets/base",
            "_view_module_version": "1.2.0",
            "_view_name": "StyleView",
            "description_width": ""
          }
        },
        "4d7b365ec99c4337b2a2c27f5f9c0290": {
          "model_module": "@jupyter-widgets/base",
          "model_name": "LayoutModel",
          "model_module_version": "1.2.0",
          "state": {
            "_model_module": "@jupyter-widgets/base",
            "_model_module_version": "1.2.0",
            "_model_name": "LayoutModel",
            "_view_count": null,
            "_view_module": "@jupyter-widgets/base",
            "_view_module_version": "1.2.0",
            "_view_name": "LayoutView",
            "align_content": null,
            "align_items": null,
            "align_self": null,
            "border": null,
            "bottom": null,
            "display": null,
            "flex": null,
            "flex_flow": null,
            "grid_area": null,
            "grid_auto_columns": null,
            "grid_auto_flow": null,
            "grid_auto_rows": null,
            "grid_column": null,
            "grid_gap": null,
            "grid_row": null,
            "grid_template_areas": null,
            "grid_template_columns": null,
            "grid_template_rows": null,
            "height": null,
            "justify_content": null,
            "justify_items": null,
            "left": null,
            "margin": null,
            "max_height": null,
            "max_width": null,
            "min_height": null,
            "min_width": null,
            "object_fit": null,
            "object_position": null,
            "order": null,
            "overflow": null,
            "overflow_x": null,
            "overflow_y": null,
            "padding": null,
            "right": null,
            "top": null,
            "visibility": null,
            "width": null
          }
        },
        "4fc092d2ed8d4cfab9432c4ed9bec379": {
          "model_module": "@jupyter-widgets/controls",
          "model_name": "ProgressStyleModel",
          "model_module_version": "1.5.0",
          "state": {
            "_model_module": "@jupyter-widgets/controls",
            "_model_module_version": "1.5.0",
            "_model_name": "ProgressStyleModel",
            "_view_count": null,
            "_view_module": "@jupyter-widgets/base",
            "_view_module_version": "1.2.0",
            "_view_name": "StyleView",
            "bar_color": null,
            "description_width": ""
          }
        },
        "51458610cf4e438bb7ebd959b6b981c6": {
          "model_module": "@jupyter-widgets/base",
          "model_name": "LayoutModel",
          "model_module_version": "1.2.0",
          "state": {
            "_model_module": "@jupyter-widgets/base",
            "_model_module_version": "1.2.0",
            "_model_name": "LayoutModel",
            "_view_count": null,
            "_view_module": "@jupyter-widgets/base",
            "_view_module_version": "1.2.0",
            "_view_name": "LayoutView",
            "align_content": null,
            "align_items": null,
            "align_self": null,
            "border": null,
            "bottom": null,
            "display": null,
            "flex": null,
            "flex_flow": null,
            "grid_area": null,
            "grid_auto_columns": null,
            "grid_auto_flow": null,
            "grid_auto_rows": null,
            "grid_column": null,
            "grid_gap": null,
            "grid_row": null,
            "grid_template_areas": null,
            "grid_template_columns": null,
            "grid_template_rows": null,
            "height": null,
            "justify_content": null,
            "justify_items": null,
            "left": null,
            "margin": null,
            "max_height": null,
            "max_width": null,
            "min_height": null,
            "min_width": null,
            "object_fit": null,
            "object_position": null,
            "order": null,
            "overflow": null,
            "overflow_x": null,
            "overflow_y": null,
            "padding": null,
            "right": null,
            "top": null,
            "visibility": null,
            "width": null
          }
        },
        "9caeb4ae3a184e7d90df4894d1061495": {
          "model_module": "@jupyter-widgets/controls",
          "model_name": "DescriptionStyleModel",
          "model_module_version": "1.5.0",
          "state": {
            "_model_module": "@jupyter-widgets/controls",
            "_model_module_version": "1.5.0",
            "_model_name": "DescriptionStyleModel",
            "_view_count": null,
            "_view_module": "@jupyter-widgets/base",
            "_view_module_version": "1.2.0",
            "_view_name": "StyleView",
            "description_width": ""
          }
        },
        "ac81b8f856874618b93b0b20b6bfec87": {
          "model_module": "@jupyter-widgets/controls",
          "model_name": "HBoxModel",
          "model_module_version": "1.5.0",
          "state": {
            "_dom_classes": [],
            "_model_module": "@jupyter-widgets/controls",
            "_model_module_version": "1.5.0",
            "_model_name": "HBoxModel",
            "_view_count": null,
            "_view_module": "@jupyter-widgets/controls",
            "_view_module_version": "1.5.0",
            "_view_name": "HBoxView",
            "box_style": "",
            "children": [
              "IPY_MODEL_8d0571d17f6549cba3d97b0d19956fc4",
              "IPY_MODEL_45113db9a1684b03b59431c94a526236",
              "IPY_MODEL_4b3f569594ff455e94cb3a97e4a63bf2"
            ],
            "layout": "IPY_MODEL_30cb6008eb6d48ea962707f6539856f9"
          }
        },
        "8d0571d17f6549cba3d97b0d19956fc4": {
          "model_module": "@jupyter-widgets/controls",
          "model_name": "HTMLModel",
          "model_module_version": "1.5.0",
          "state": {
            "_dom_classes": [],
            "_model_module": "@jupyter-widgets/controls",
            "_model_module_version": "1.5.0",
            "_model_name": "HTMLModel",
            "_view_count": null,
            "_view_module": "@jupyter-widgets/controls",
            "_view_module_version": "1.5.0",
            "_view_name": "HTMLView",
            "description": "",
            "description_tooltip": null,
            "layout": "IPY_MODEL_6e282c78c3554598a104233a6b93bbe3",
            "placeholder": "​",
            "style": "IPY_MODEL_7aacff085c4d421990bd8566d5208f7a",
            "value": "merges.txt: 100%"
          }
        },
        "45113db9a1684b03b59431c94a526236": {
          "model_module": "@jupyter-widgets/controls",
          "model_name": "FloatProgressModel",
          "model_module_version": "1.5.0",
          "state": {
            "_dom_classes": [],
            "_model_module": "@jupyter-widgets/controls",
            "_model_module_version": "1.5.0",
            "_model_name": "FloatProgressModel",
            "_view_count": null,
            "_view_module": "@jupyter-widgets/controls",
            "_view_module_version": "1.5.0",
            "_view_name": "ProgressView",
            "bar_style": "success",
            "description": "",
            "description_tooltip": null,
            "layout": "IPY_MODEL_f2fa75a7ff4941ac80a20299e4917c34",
            "max": 456318,
            "min": 0,
            "orientation": "horizontal",
            "style": "IPY_MODEL_f6b334c8913d435ebe9e9108ef2b7821",
            "value": 456318
          }
        },
        "4b3f569594ff455e94cb3a97e4a63bf2": {
          "model_module": "@jupyter-widgets/controls",
          "model_name": "HTMLModel",
          "model_module_version": "1.5.0",
          "state": {
            "_dom_classes": [],
            "_model_module": "@jupyter-widgets/controls",
            "_model_module_version": "1.5.0",
            "_model_name": "HTMLModel",
            "_view_count": null,
            "_view_module": "@jupyter-widgets/controls",
            "_view_module_version": "1.5.0",
            "_view_name": "HTMLView",
            "description": "",
            "description_tooltip": null,
            "layout": "IPY_MODEL_07f9a9881fe74407ac3e0e3aa9df9a16",
            "placeholder": "​",
            "style": "IPY_MODEL_dc4f24287e7241ff9b8e0c5859f71bbf",
            "value": " 456k/456k [00:00&lt;00:00, 2.60MB/s]"
          }
        },
        "30cb6008eb6d48ea962707f6539856f9": {
          "model_module": "@jupyter-widgets/base",
          "model_name": "LayoutModel",
          "model_module_version": "1.2.0",
          "state": {
            "_model_module": "@jupyter-widgets/base",
            "_model_module_version": "1.2.0",
            "_model_name": "LayoutModel",
            "_view_count": null,
            "_view_module": "@jupyter-widgets/base",
            "_view_module_version": "1.2.0",
            "_view_name": "LayoutView",
            "align_content": null,
            "align_items": null,
            "align_self": null,
            "border": null,
            "bottom": null,
            "display": null,
            "flex": null,
            "flex_flow": null,
            "grid_area": null,
            "grid_auto_columns": null,
            "grid_auto_flow": null,
            "grid_auto_rows": null,
            "grid_column": null,
            "grid_gap": null,
            "grid_row": null,
            "grid_template_areas": null,
            "grid_template_columns": null,
            "grid_template_rows": null,
            "height": null,
            "justify_content": null,
            "justify_items": null,
            "left": null,
            "margin": null,
            "max_height": null,
            "max_width": null,
            "min_height": null,
            "min_width": null,
            "object_fit": null,
            "object_position": null,
            "order": null,
            "overflow": null,
            "overflow_x": null,
            "overflow_y": null,
            "padding": null,
            "right": null,
            "top": null,
            "visibility": null,
            "width": null
          }
        },
        "6e282c78c3554598a104233a6b93bbe3": {
          "model_module": "@jupyter-widgets/base",
          "model_name": "LayoutModel",
          "model_module_version": "1.2.0",
          "state": {
            "_model_module": "@jupyter-widgets/base",
            "_model_module_version": "1.2.0",
            "_model_name": "LayoutModel",
            "_view_count": null,
            "_view_module": "@jupyter-widgets/base",
            "_view_module_version": "1.2.0",
            "_view_name": "LayoutView",
            "align_content": null,
            "align_items": null,
            "align_self": null,
            "border": null,
            "bottom": null,
            "display": null,
            "flex": null,
            "flex_flow": null,
            "grid_area": null,
            "grid_auto_columns": null,
            "grid_auto_flow": null,
            "grid_auto_rows": null,
            "grid_column": null,
            "grid_gap": null,
            "grid_row": null,
            "grid_template_areas": null,
            "grid_template_columns": null,
            "grid_template_rows": null,
            "height": null,
            "justify_content": null,
            "justify_items": null,
            "left": null,
            "margin": null,
            "max_height": null,
            "max_width": null,
            "min_height": null,
            "min_width": null,
            "object_fit": null,
            "object_position": null,
            "order": null,
            "overflow": null,
            "overflow_x": null,
            "overflow_y": null,
            "padding": null,
            "right": null,
            "top": null,
            "visibility": null,
            "width": null
          }
        },
        "7aacff085c4d421990bd8566d5208f7a": {
          "model_module": "@jupyter-widgets/controls",
          "model_name": "DescriptionStyleModel",
          "model_module_version": "1.5.0",
          "state": {
            "_model_module": "@jupyter-widgets/controls",
            "_model_module_version": "1.5.0",
            "_model_name": "DescriptionStyleModel",
            "_view_count": null,
            "_view_module": "@jupyter-widgets/base",
            "_view_module_version": "1.2.0",
            "_view_name": "StyleView",
            "description_width": ""
          }
        },
        "f2fa75a7ff4941ac80a20299e4917c34": {
          "model_module": "@jupyter-widgets/base",
          "model_name": "LayoutModel",
          "model_module_version": "1.2.0",
          "state": {
            "_model_module": "@jupyter-widgets/base",
            "_model_module_version": "1.2.0",
            "_model_name": "LayoutModel",
            "_view_count": null,
            "_view_module": "@jupyter-widgets/base",
            "_view_module_version": "1.2.0",
            "_view_name": "LayoutView",
            "align_content": null,
            "align_items": null,
            "align_self": null,
            "border": null,
            "bottom": null,
            "display": null,
            "flex": null,
            "flex_flow": null,
            "grid_area": null,
            "grid_auto_columns": null,
            "grid_auto_flow": null,
            "grid_auto_rows": null,
            "grid_column": null,
            "grid_gap": null,
            "grid_row": null,
            "grid_template_areas": null,
            "grid_template_columns": null,
            "grid_template_rows": null,
            "height": null,
            "justify_content": null,
            "justify_items": null,
            "left": null,
            "margin": null,
            "max_height": null,
            "max_width": null,
            "min_height": null,
            "min_width": null,
            "object_fit": null,
            "object_position": null,
            "order": null,
            "overflow": null,
            "overflow_x": null,
            "overflow_y": null,
            "padding": null,
            "right": null,
            "top": null,
            "visibility": null,
            "width": null
          }
        },
        "f6b334c8913d435ebe9e9108ef2b7821": {
          "model_module": "@jupyter-widgets/controls",
          "model_name": "ProgressStyleModel",
          "model_module_version": "1.5.0",
          "state": {
            "_model_module": "@jupyter-widgets/controls",
            "_model_module_version": "1.5.0",
            "_model_name": "ProgressStyleModel",
            "_view_count": null,
            "_view_module": "@jupyter-widgets/base",
            "_view_module_version": "1.2.0",
            "_view_name": "StyleView",
            "bar_color": null,
            "description_width": ""
          }
        },
        "07f9a9881fe74407ac3e0e3aa9df9a16": {
          "model_module": "@jupyter-widgets/base",
          "model_name": "LayoutModel",
          "model_module_version": "1.2.0",
          "state": {
            "_model_module": "@jupyter-widgets/base",
            "_model_module_version": "1.2.0",
            "_model_name": "LayoutModel",
            "_view_count": null,
            "_view_module": "@jupyter-widgets/base",
            "_view_module_version": "1.2.0",
            "_view_name": "LayoutView",
            "align_content": null,
            "align_items": null,
            "align_self": null,
            "border": null,
            "bottom": null,
            "display": null,
            "flex": null,
            "flex_flow": null,
            "grid_area": null,
            "grid_auto_columns": null,
            "grid_auto_flow": null,
            "grid_auto_rows": null,
            "grid_column": null,
            "grid_gap": null,
            "grid_row": null,
            "grid_template_areas": null,
            "grid_template_columns": null,
            "grid_template_rows": null,
            "height": null,
            "justify_content": null,
            "justify_items": null,
            "left": null,
            "margin": null,
            "max_height": null,
            "max_width": null,
            "min_height": null,
            "min_width": null,
            "object_fit": null,
            "object_position": null,
            "order": null,
            "overflow": null,
            "overflow_x": null,
            "overflow_y": null,
            "padding": null,
            "right": null,
            "top": null,
            "visibility": null,
            "width": null
          }
        },
        "dc4f24287e7241ff9b8e0c5859f71bbf": {
          "model_module": "@jupyter-widgets/controls",
          "model_name": "DescriptionStyleModel",
          "model_module_version": "1.5.0",
          "state": {
            "_model_module": "@jupyter-widgets/controls",
            "_model_module_version": "1.5.0",
            "_model_name": "DescriptionStyleModel",
            "_view_count": null,
            "_view_module": "@jupyter-widgets/base",
            "_view_module_version": "1.2.0",
            "_view_name": "StyleView",
            "description_width": ""
          }
        },
        "de0e37cb4ec84dadb58bd72a7e7befb5": {
          "model_module": "@jupyter-widgets/controls",
          "model_name": "HBoxModel",
          "model_module_version": "1.5.0",
          "state": {
            "_dom_classes": [],
            "_model_module": "@jupyter-widgets/controls",
            "_model_module_version": "1.5.0",
            "_model_name": "HBoxModel",
            "_view_count": null,
            "_view_module": "@jupyter-widgets/controls",
            "_view_module_version": "1.5.0",
            "_view_name": "HBoxView",
            "box_style": "",
            "children": [
              "IPY_MODEL_83cf6a94fd6f463a8c94f9b78a4bdc98",
              "IPY_MODEL_5beed97c1109404f9807d6b266d51d6a",
              "IPY_MODEL_72b83fe1f2484570afd0ebb3b0013d23"
            ],
            "layout": "IPY_MODEL_eb28a926049b4ad7bd1d01c57494d281"
          }
        },
        "83cf6a94fd6f463a8c94f9b78a4bdc98": {
          "model_module": "@jupyter-widgets/controls",
          "model_name": "HTMLModel",
          "model_module_version": "1.5.0",
          "state": {
            "_dom_classes": [],
            "_model_module": "@jupyter-widgets/controls",
            "_model_module_version": "1.5.0",
            "_model_name": "HTMLModel",
            "_view_count": null,
            "_view_module": "@jupyter-widgets/controls",
            "_view_module_version": "1.5.0",
            "_view_name": "HTMLView",
            "description": "",
            "description_tooltip": null,
            "layout": "IPY_MODEL_c0311ca7904247f0a126e9beff614bb8",
            "placeholder": "​",
            "style": "IPY_MODEL_1ba88b8ad13c409d8bfd60d926eef01d",
            "value": "tokenizer.json: 100%"
          }
        },
        "5beed97c1109404f9807d6b266d51d6a": {
          "model_module": "@jupyter-widgets/controls",
          "model_name": "FloatProgressModel",
          "model_module_version": "1.5.0",
          "state": {
            "_dom_classes": [],
            "_model_module": "@jupyter-widgets/controls",
            "_model_module_version": "1.5.0",
            "_model_name": "FloatProgressModel",
            "_view_count": null,
            "_view_module": "@jupyter-widgets/controls",
            "_view_module_version": "1.5.0",
            "_view_name": "ProgressView",
            "bar_style": "success",
            "description": "",
            "description_tooltip": null,
            "layout": "IPY_MODEL_6a59184cb0d84c03865f4a0960c4db13",
            "max": 1355256,
            "min": 0,
            "orientation": "horizontal",
            "style": "IPY_MODEL_09d946e7ac1841c8a7f38965ae4f6e65",
            "value": 1355256
          }
        },
        "72b83fe1f2484570afd0ebb3b0013d23": {
          "model_module": "@jupyter-widgets/controls",
          "model_name": "HTMLModel",
          "model_module_version": "1.5.0",
          "state": {
            "_dom_classes": [],
            "_model_module": "@jupyter-widgets/controls",
            "_model_module_version": "1.5.0",
            "_model_name": "HTMLModel",
            "_view_count": null,
            "_view_module": "@jupyter-widgets/controls",
            "_view_module_version": "1.5.0",
            "_view_name": "HTMLView",
            "description": "",
            "description_tooltip": null,
            "layout": "IPY_MODEL_c2c8df7417684ef8968e81abeccc1669",
            "placeholder": "​",
            "style": "IPY_MODEL_4b47c2c188974e03afeb2e3b1528a7b6",
            "value": " 1.36M/1.36M [00:00&lt;00:00, 3.35MB/s]"
          }
        },
        "eb28a926049b4ad7bd1d01c57494d281": {
          "model_module": "@jupyter-widgets/base",
          "model_name": "LayoutModel",
          "model_module_version": "1.2.0",
          "state": {
            "_model_module": "@jupyter-widgets/base",
            "_model_module_version": "1.2.0",
            "_model_name": "LayoutModel",
            "_view_count": null,
            "_view_module": "@jupyter-widgets/base",
            "_view_module_version": "1.2.0",
            "_view_name": "LayoutView",
            "align_content": null,
            "align_items": null,
            "align_self": null,
            "border": null,
            "bottom": null,
            "display": null,
            "flex": null,
            "flex_flow": null,
            "grid_area": null,
            "grid_auto_columns": null,
            "grid_auto_flow": null,
            "grid_auto_rows": null,
            "grid_column": null,
            "grid_gap": null,
            "grid_row": null,
            "grid_template_areas": null,
            "grid_template_columns": null,
            "grid_template_rows": null,
            "height": null,
            "justify_content": null,
            "justify_items": null,
            "left": null,
            "margin": null,
            "max_height": null,
            "max_width": null,
            "min_height": null,
            "min_width": null,
            "object_fit": null,
            "object_position": null,
            "order": null,
            "overflow": null,
            "overflow_x": null,
            "overflow_y": null,
            "padding": null,
            "right": null,
            "top": null,
            "visibility": null,
            "width": null
          }
        },
        "c0311ca7904247f0a126e9beff614bb8": {
          "model_module": "@jupyter-widgets/base",
          "model_name": "LayoutModel",
          "model_module_version": "1.2.0",
          "state": {
            "_model_module": "@jupyter-widgets/base",
            "_model_module_version": "1.2.0",
            "_model_name": "LayoutModel",
            "_view_count": null,
            "_view_module": "@jupyter-widgets/base",
            "_view_module_version": "1.2.0",
            "_view_name": "LayoutView",
            "align_content": null,
            "align_items": null,
            "align_self": null,
            "border": null,
            "bottom": null,
            "display": null,
            "flex": null,
            "flex_flow": null,
            "grid_area": null,
            "grid_auto_columns": null,
            "grid_auto_flow": null,
            "grid_auto_rows": null,
            "grid_column": null,
            "grid_gap": null,
            "grid_row": null,
            "grid_template_areas": null,
            "grid_template_columns": null,
            "grid_template_rows": null,
            "height": null,
            "justify_content": null,
            "justify_items": null,
            "left": null,
            "margin": null,
            "max_height": null,
            "max_width": null,
            "min_height": null,
            "min_width": null,
            "object_fit": null,
            "object_position": null,
            "order": null,
            "overflow": null,
            "overflow_x": null,
            "overflow_y": null,
            "padding": null,
            "right": null,
            "top": null,
            "visibility": null,
            "width": null
          }
        },
        "1ba88b8ad13c409d8bfd60d926eef01d": {
          "model_module": "@jupyter-widgets/controls",
          "model_name": "DescriptionStyleModel",
          "model_module_version": "1.5.0",
          "state": {
            "_model_module": "@jupyter-widgets/controls",
            "_model_module_version": "1.5.0",
            "_model_name": "DescriptionStyleModel",
            "_view_count": null,
            "_view_module": "@jupyter-widgets/base",
            "_view_module_version": "1.2.0",
            "_view_name": "StyleView",
            "description_width": ""
          }
        },
        "6a59184cb0d84c03865f4a0960c4db13": {
          "model_module": "@jupyter-widgets/base",
          "model_name": "LayoutModel",
          "model_module_version": "1.2.0",
          "state": {
            "_model_module": "@jupyter-widgets/base",
            "_model_module_version": "1.2.0",
            "_model_name": "LayoutModel",
            "_view_count": null,
            "_view_module": "@jupyter-widgets/base",
            "_view_module_version": "1.2.0",
            "_view_name": "LayoutView",
            "align_content": null,
            "align_items": null,
            "align_self": null,
            "border": null,
            "bottom": null,
            "display": null,
            "flex": null,
            "flex_flow": null,
            "grid_area": null,
            "grid_auto_columns": null,
            "grid_auto_flow": null,
            "grid_auto_rows": null,
            "grid_column": null,
            "grid_gap": null,
            "grid_row": null,
            "grid_template_areas": null,
            "grid_template_columns": null,
            "grid_template_rows": null,
            "height": null,
            "justify_content": null,
            "justify_items": null,
            "left": null,
            "margin": null,
            "max_height": null,
            "max_width": null,
            "min_height": null,
            "min_width": null,
            "object_fit": null,
            "object_position": null,
            "order": null,
            "overflow": null,
            "overflow_x": null,
            "overflow_y": null,
            "padding": null,
            "right": null,
            "top": null,
            "visibility": null,
            "width": null
          }
        },
        "09d946e7ac1841c8a7f38965ae4f6e65": {
          "model_module": "@jupyter-widgets/controls",
          "model_name": "ProgressStyleModel",
          "model_module_version": "1.5.0",
          "state": {
            "_model_module": "@jupyter-widgets/controls",
            "_model_module_version": "1.5.0",
            "_model_name": "ProgressStyleModel",
            "_view_count": null,
            "_view_module": "@jupyter-widgets/base",
            "_view_module_version": "1.2.0",
            "_view_name": "StyleView",
            "bar_color": null,
            "description_width": ""
          }
        },
        "c2c8df7417684ef8968e81abeccc1669": {
          "model_module": "@jupyter-widgets/base",
          "model_name": "LayoutModel",
          "model_module_version": "1.2.0",
          "state": {
            "_model_module": "@jupyter-widgets/base",
            "_model_module_version": "1.2.0",
            "_model_name": "LayoutModel",
            "_view_count": null,
            "_view_module": "@jupyter-widgets/base",
            "_view_module_version": "1.2.0",
            "_view_name": "LayoutView",
            "align_content": null,
            "align_items": null,
            "align_self": null,
            "border": null,
            "bottom": null,
            "display": null,
            "flex": null,
            "flex_flow": null,
            "grid_area": null,
            "grid_auto_columns": null,
            "grid_auto_flow": null,
            "grid_auto_rows": null,
            "grid_column": null,
            "grid_gap": null,
            "grid_row": null,
            "grid_template_areas": null,
            "grid_template_columns": null,
            "grid_template_rows": null,
            "height": null,
            "justify_content": null,
            "justify_items": null,
            "left": null,
            "margin": null,
            "max_height": null,
            "max_width": null,
            "min_height": null,
            "min_width": null,
            "object_fit": null,
            "object_position": null,
            "order": null,
            "overflow": null,
            "overflow_x": null,
            "overflow_y": null,
            "padding": null,
            "right": null,
            "top": null,
            "visibility": null,
            "width": null
          }
        },
        "4b47c2c188974e03afeb2e3b1528a7b6": {
          "model_module": "@jupyter-widgets/controls",
          "model_name": "DescriptionStyleModel",
          "model_module_version": "1.5.0",
          "state": {
            "_model_module": "@jupyter-widgets/controls",
            "_model_module_version": "1.5.0",
            "_model_name": "DescriptionStyleModel",
            "_view_count": null,
            "_view_module": "@jupyter-widgets/base",
            "_view_module_version": "1.2.0",
            "_view_name": "StyleView",
            "description_width": ""
          }
        },
        "59aba559e1bd42a39b477662ea2a2525": {
          "model_module": "@jupyter-widgets/controls",
          "model_name": "HBoxModel",
          "model_module_version": "1.5.0",
          "state": {
            "_dom_classes": [],
            "_model_module": "@jupyter-widgets/controls",
            "_model_module_version": "1.5.0",
            "_model_name": "HBoxModel",
            "_view_count": null,
            "_view_module": "@jupyter-widgets/controls",
            "_view_module_version": "1.5.0",
            "_view_name": "HBoxView",
            "box_style": "",
            "children": [
              "IPY_MODEL_453fb9e1db3046afa611664220ff3972",
              "IPY_MODEL_f27e34d95dce4bbf86c7f0707adc8e98",
              "IPY_MODEL_c8f5cce70fb74daf8c8ced0078152aba"
            ],
            "layout": "IPY_MODEL_0ba259392cd34f088e7fa4df0963b3c4"
          }
        },
        "453fb9e1db3046afa611664220ff3972": {
          "model_module": "@jupyter-widgets/controls",
          "model_name": "HTMLModel",
          "model_module_version": "1.5.0",
          "state": {
            "_dom_classes": [],
            "_model_module": "@jupyter-widgets/controls",
            "_model_module_version": "1.5.0",
            "_model_name": "HTMLModel",
            "_view_count": null,
            "_view_module": "@jupyter-widgets/controls",
            "_view_module_version": "1.5.0",
            "_view_name": "HTMLView",
            "description": "",
            "description_tooltip": null,
            "layout": "IPY_MODEL_4030eca0bd964985b07a0ba8e1eb16fb",
            "placeholder": "​",
            "style": "IPY_MODEL_b0eb76dda4844c34a82ae490124c1689",
            "value": "config.json: 100%"
          }
        },
        "f27e34d95dce4bbf86c7f0707adc8e98": {
          "model_module": "@jupyter-widgets/controls",
          "model_name": "FloatProgressModel",
          "model_module_version": "1.5.0",
          "state": {
            "_dom_classes": [],
            "_model_module": "@jupyter-widgets/controls",
            "_model_module_version": "1.5.0",
            "_model_name": "FloatProgressModel",
            "_view_count": null,
            "_view_module": "@jupyter-widgets/controls",
            "_view_module_version": "1.5.0",
            "_view_name": "ProgressView",
            "bar_style": "success",
            "description": "",
            "description_tooltip": null,
            "layout": "IPY_MODEL_3104eafe202f418d9c076d26fb6d27ed",
            "max": 665,
            "min": 0,
            "orientation": "horizontal",
            "style": "IPY_MODEL_afe96a7540444343a7307512fece1958",
            "value": 665
          }
        },
        "c8f5cce70fb74daf8c8ced0078152aba": {
          "model_module": "@jupyter-widgets/controls",
          "model_name": "HTMLModel",
          "model_module_version": "1.5.0",
          "state": {
            "_dom_classes": [],
            "_model_module": "@jupyter-widgets/controls",
            "_model_module_version": "1.5.0",
            "_model_name": "HTMLModel",
            "_view_count": null,
            "_view_module": "@jupyter-widgets/controls",
            "_view_module_version": "1.5.0",
            "_view_name": "HTMLView",
            "description": "",
            "description_tooltip": null,
            "layout": "IPY_MODEL_c3dfba19c55c4155bf77c7b53c38cd65",
            "placeholder": "​",
            "style": "IPY_MODEL_9c3a197b75874a0d802d893890979e56",
            "value": " 665/665 [00:00&lt;00:00, 11.5kB/s]"
          }
        },
        "0ba259392cd34f088e7fa4df0963b3c4": {
          "model_module": "@jupyter-widgets/base",
          "model_name": "LayoutModel",
          "model_module_version": "1.2.0",
          "state": {
            "_model_module": "@jupyter-widgets/base",
            "_model_module_version": "1.2.0",
            "_model_name": "LayoutModel",
            "_view_count": null,
            "_view_module": "@jupyter-widgets/base",
            "_view_module_version": "1.2.0",
            "_view_name": "LayoutView",
            "align_content": null,
            "align_items": null,
            "align_self": null,
            "border": null,
            "bottom": null,
            "display": null,
            "flex": null,
            "flex_flow": null,
            "grid_area": null,
            "grid_auto_columns": null,
            "grid_auto_flow": null,
            "grid_auto_rows": null,
            "grid_column": null,
            "grid_gap": null,
            "grid_row": null,
            "grid_template_areas": null,
            "grid_template_columns": null,
            "grid_template_rows": null,
            "height": null,
            "justify_content": null,
            "justify_items": null,
            "left": null,
            "margin": null,
            "max_height": null,
            "max_width": null,
            "min_height": null,
            "min_width": null,
            "object_fit": null,
            "object_position": null,
            "order": null,
            "overflow": null,
            "overflow_x": null,
            "overflow_y": null,
            "padding": null,
            "right": null,
            "top": null,
            "visibility": null,
            "width": null
          }
        },
        "4030eca0bd964985b07a0ba8e1eb16fb": {
          "model_module": "@jupyter-widgets/base",
          "model_name": "LayoutModel",
          "model_module_version": "1.2.0",
          "state": {
            "_model_module": "@jupyter-widgets/base",
            "_model_module_version": "1.2.0",
            "_model_name": "LayoutModel",
            "_view_count": null,
            "_view_module": "@jupyter-widgets/base",
            "_view_module_version": "1.2.0",
            "_view_name": "LayoutView",
            "align_content": null,
            "align_items": null,
            "align_self": null,
            "border": null,
            "bottom": null,
            "display": null,
            "flex": null,
            "flex_flow": null,
            "grid_area": null,
            "grid_auto_columns": null,
            "grid_auto_flow": null,
            "grid_auto_rows": null,
            "grid_column": null,
            "grid_gap": null,
            "grid_row": null,
            "grid_template_areas": null,
            "grid_template_columns": null,
            "grid_template_rows": null,
            "height": null,
            "justify_content": null,
            "justify_items": null,
            "left": null,
            "margin": null,
            "max_height": null,
            "max_width": null,
            "min_height": null,
            "min_width": null,
            "object_fit": null,
            "object_position": null,
            "order": null,
            "overflow": null,
            "overflow_x": null,
            "overflow_y": null,
            "padding": null,
            "right": null,
            "top": null,
            "visibility": null,
            "width": null
          }
        },
        "b0eb76dda4844c34a82ae490124c1689": {
          "model_module": "@jupyter-widgets/controls",
          "model_name": "DescriptionStyleModel",
          "model_module_version": "1.5.0",
          "state": {
            "_model_module": "@jupyter-widgets/controls",
            "_model_module_version": "1.5.0",
            "_model_name": "DescriptionStyleModel",
            "_view_count": null,
            "_view_module": "@jupyter-widgets/base",
            "_view_module_version": "1.2.0",
            "_view_name": "StyleView",
            "description_width": ""
          }
        },
        "3104eafe202f418d9c076d26fb6d27ed": {
          "model_module": "@jupyter-widgets/base",
          "model_name": "LayoutModel",
          "model_module_version": "1.2.0",
          "state": {
            "_model_module": "@jupyter-widgets/base",
            "_model_module_version": "1.2.0",
            "_model_name": "LayoutModel",
            "_view_count": null,
            "_view_module": "@jupyter-widgets/base",
            "_view_module_version": "1.2.0",
            "_view_name": "LayoutView",
            "align_content": null,
            "align_items": null,
            "align_self": null,
            "border": null,
            "bottom": null,
            "display": null,
            "flex": null,
            "flex_flow": null,
            "grid_area": null,
            "grid_auto_columns": null,
            "grid_auto_flow": null,
            "grid_auto_rows": null,
            "grid_column": null,
            "grid_gap": null,
            "grid_row": null,
            "grid_template_areas": null,
            "grid_template_columns": null,
            "grid_template_rows": null,
            "height": null,
            "justify_content": null,
            "justify_items": null,
            "left": null,
            "margin": null,
            "max_height": null,
            "max_width": null,
            "min_height": null,
            "min_width": null,
            "object_fit": null,
            "object_position": null,
            "order": null,
            "overflow": null,
            "overflow_x": null,
            "overflow_y": null,
            "padding": null,
            "right": null,
            "top": null,
            "visibility": null,
            "width": null
          }
        },
        "afe96a7540444343a7307512fece1958": {
          "model_module": "@jupyter-widgets/controls",
          "model_name": "ProgressStyleModel",
          "model_module_version": "1.5.0",
          "state": {
            "_model_module": "@jupyter-widgets/controls",
            "_model_module_version": "1.5.0",
            "_model_name": "ProgressStyleModel",
            "_view_count": null,
            "_view_module": "@jupyter-widgets/base",
            "_view_module_version": "1.2.0",
            "_view_name": "StyleView",
            "bar_color": null,
            "description_width": ""
          }
        },
        "c3dfba19c55c4155bf77c7b53c38cd65": {
          "model_module": "@jupyter-widgets/base",
          "model_name": "LayoutModel",
          "model_module_version": "1.2.0",
          "state": {
            "_model_module": "@jupyter-widgets/base",
            "_model_module_version": "1.2.0",
            "_model_name": "LayoutModel",
            "_view_count": null,
            "_view_module": "@jupyter-widgets/base",
            "_view_module_version": "1.2.0",
            "_view_name": "LayoutView",
            "align_content": null,
            "align_items": null,
            "align_self": null,
            "border": null,
            "bottom": null,
            "display": null,
            "flex": null,
            "flex_flow": null,
            "grid_area": null,
            "grid_auto_columns": null,
            "grid_auto_flow": null,
            "grid_auto_rows": null,
            "grid_column": null,
            "grid_gap": null,
            "grid_row": null,
            "grid_template_areas": null,
            "grid_template_columns": null,
            "grid_template_rows": null,
            "height": null,
            "justify_content": null,
            "justify_items": null,
            "left": null,
            "margin": null,
            "max_height": null,
            "max_width": null,
            "min_height": null,
            "min_width": null,
            "object_fit": null,
            "object_position": null,
            "order": null,
            "overflow": null,
            "overflow_x": null,
            "overflow_y": null,
            "padding": null,
            "right": null,
            "top": null,
            "visibility": null,
            "width": null
          }
        },
        "9c3a197b75874a0d802d893890979e56": {
          "model_module": "@jupyter-widgets/controls",
          "model_name": "DescriptionStyleModel",
          "model_module_version": "1.5.0",
          "state": {
            "_model_module": "@jupyter-widgets/controls",
            "_model_module_version": "1.5.0",
            "_model_name": "DescriptionStyleModel",
            "_view_count": null,
            "_view_module": "@jupyter-widgets/base",
            "_view_module_version": "1.2.0",
            "_view_name": "StyleView",
            "description_width": ""
          }
        },
        "f77f083c66c84d81bdfbebcc3e9556dc": {
          "model_module": "@jupyter-widgets/controls",
          "model_name": "HBoxModel",
          "model_module_version": "1.5.0",
          "state": {
            "_dom_classes": [],
            "_model_module": "@jupyter-widgets/controls",
            "_model_module_version": "1.5.0",
            "_model_name": "HBoxModel",
            "_view_count": null,
            "_view_module": "@jupyter-widgets/controls",
            "_view_module_version": "1.5.0",
            "_view_name": "HBoxView",
            "box_style": "",
            "children": [
              "IPY_MODEL_22b6e1c6d1494a0ab6df7e677f8f2dc3",
              "IPY_MODEL_c2e69a493be54ba985d58f8af5d733bf",
              "IPY_MODEL_b15280b993a94bbfad9ae65f81ee3540"
            ],
            "layout": "IPY_MODEL_17ff4e1dac1740ed89eb899cf6d5e1dc"
          }
        },
        "22b6e1c6d1494a0ab6df7e677f8f2dc3": {
          "model_module": "@jupyter-widgets/controls",
          "model_name": "HTMLModel",
          "model_module_version": "1.5.0",
          "state": {
            "_dom_classes": [],
            "_model_module": "@jupyter-widgets/controls",
            "_model_module_version": "1.5.0",
            "_model_name": "HTMLModel",
            "_view_count": null,
            "_view_module": "@jupyter-widgets/controls",
            "_view_module_version": "1.5.0",
            "_view_name": "HTMLView",
            "description": "",
            "description_tooltip": null,
            "layout": "IPY_MODEL_1cd69c9ffbc846748071f87f1e4f6f82",
            "placeholder": "​",
            "style": "IPY_MODEL_5e7dac6a499a4583aac5f21b2454db56",
            "value": "model.safetensors: 100%"
          }
        },
        "c2e69a493be54ba985d58f8af5d733bf": {
          "model_module": "@jupyter-widgets/controls",
          "model_name": "FloatProgressModel",
          "model_module_version": "1.5.0",
          "state": {
            "_dom_classes": [],
            "_model_module": "@jupyter-widgets/controls",
            "_model_module_version": "1.5.0",
            "_model_name": "FloatProgressModel",
            "_view_count": null,
            "_view_module": "@jupyter-widgets/controls",
            "_view_module_version": "1.5.0",
            "_view_name": "ProgressView",
            "bar_style": "success",
            "description": "",
            "description_tooltip": null,
            "layout": "IPY_MODEL_b48191dec6a24390aa64ee0fdb58f1d7",
            "max": 548105171,
            "min": 0,
            "orientation": "horizontal",
            "style": "IPY_MODEL_35f5a8880e104f9e8489b7cab2cb922f",
            "value": 548105171
          }
        },
        "b15280b993a94bbfad9ae65f81ee3540": {
          "model_module": "@jupyter-widgets/controls",
          "model_name": "HTMLModel",
          "model_module_version": "1.5.0",
          "state": {
            "_dom_classes": [],
            "_model_module": "@jupyter-widgets/controls",
            "_model_module_version": "1.5.0",
            "_model_name": "HTMLModel",
            "_view_count": null,
            "_view_module": "@jupyter-widgets/controls",
            "_view_module_version": "1.5.0",
            "_view_name": "HTMLView",
            "description": "",
            "description_tooltip": null,
            "layout": "IPY_MODEL_7c17305c1a6047d8a0af43d23898bb61",
            "placeholder": "​",
            "style": "IPY_MODEL_a341aa6a74654df8ad7a5922d4900a13",
            "value": " 548M/548M [00:08&lt;00:00, 48.3MB/s]"
          }
        },
        "17ff4e1dac1740ed89eb899cf6d5e1dc": {
          "model_module": "@jupyter-widgets/base",
          "model_name": "LayoutModel",
          "model_module_version": "1.2.0",
          "state": {
            "_model_module": "@jupyter-widgets/base",
            "_model_module_version": "1.2.0",
            "_model_name": "LayoutModel",
            "_view_count": null,
            "_view_module": "@jupyter-widgets/base",
            "_view_module_version": "1.2.0",
            "_view_name": "LayoutView",
            "align_content": null,
            "align_items": null,
            "align_self": null,
            "border": null,
            "bottom": null,
            "display": null,
            "flex": null,
            "flex_flow": null,
            "grid_area": null,
            "grid_auto_columns": null,
            "grid_auto_flow": null,
            "grid_auto_rows": null,
            "grid_column": null,
            "grid_gap": null,
            "grid_row": null,
            "grid_template_areas": null,
            "grid_template_columns": null,
            "grid_template_rows": null,
            "height": null,
            "justify_content": null,
            "justify_items": null,
            "left": null,
            "margin": null,
            "max_height": null,
            "max_width": null,
            "min_height": null,
            "min_width": null,
            "object_fit": null,
            "object_position": null,
            "order": null,
            "overflow": null,
            "overflow_x": null,
            "overflow_y": null,
            "padding": null,
            "right": null,
            "top": null,
            "visibility": null,
            "width": null
          }
        },
        "1cd69c9ffbc846748071f87f1e4f6f82": {
          "model_module": "@jupyter-widgets/base",
          "model_name": "LayoutModel",
          "model_module_version": "1.2.0",
          "state": {
            "_model_module": "@jupyter-widgets/base",
            "_model_module_version": "1.2.0",
            "_model_name": "LayoutModel",
            "_view_count": null,
            "_view_module": "@jupyter-widgets/base",
            "_view_module_version": "1.2.0",
            "_view_name": "LayoutView",
            "align_content": null,
            "align_items": null,
            "align_self": null,
            "border": null,
            "bottom": null,
            "display": null,
            "flex": null,
            "flex_flow": null,
            "grid_area": null,
            "grid_auto_columns": null,
            "grid_auto_flow": null,
            "grid_auto_rows": null,
            "grid_column": null,
            "grid_gap": null,
            "grid_row": null,
            "grid_template_areas": null,
            "grid_template_columns": null,
            "grid_template_rows": null,
            "height": null,
            "justify_content": null,
            "justify_items": null,
            "left": null,
            "margin": null,
            "max_height": null,
            "max_width": null,
            "min_height": null,
            "min_width": null,
            "object_fit": null,
            "object_position": null,
            "order": null,
            "overflow": null,
            "overflow_x": null,
            "overflow_y": null,
            "padding": null,
            "right": null,
            "top": null,
            "visibility": null,
            "width": null
          }
        },
        "5e7dac6a499a4583aac5f21b2454db56": {
          "model_module": "@jupyter-widgets/controls",
          "model_name": "DescriptionStyleModel",
          "model_module_version": "1.5.0",
          "state": {
            "_model_module": "@jupyter-widgets/controls",
            "_model_module_version": "1.5.0",
            "_model_name": "DescriptionStyleModel",
            "_view_count": null,
            "_view_module": "@jupyter-widgets/base",
            "_view_module_version": "1.2.0",
            "_view_name": "StyleView",
            "description_width": ""
          }
        },
        "b48191dec6a24390aa64ee0fdb58f1d7": {
          "model_module": "@jupyter-widgets/base",
          "model_name": "LayoutModel",
          "model_module_version": "1.2.0",
          "state": {
            "_model_module": "@jupyter-widgets/base",
            "_model_module_version": "1.2.0",
            "_model_name": "LayoutModel",
            "_view_count": null,
            "_view_module": "@jupyter-widgets/base",
            "_view_module_version": "1.2.0",
            "_view_name": "LayoutView",
            "align_content": null,
            "align_items": null,
            "align_self": null,
            "border": null,
            "bottom": null,
            "display": null,
            "flex": null,
            "flex_flow": null,
            "grid_area": null,
            "grid_auto_columns": null,
            "grid_auto_flow": null,
            "grid_auto_rows": null,
            "grid_column": null,
            "grid_gap": null,
            "grid_row": null,
            "grid_template_areas": null,
            "grid_template_columns": null,
            "grid_template_rows": null,
            "height": null,
            "justify_content": null,
            "justify_items": null,
            "left": null,
            "margin": null,
            "max_height": null,
            "max_width": null,
            "min_height": null,
            "min_width": null,
            "object_fit": null,
            "object_position": null,
            "order": null,
            "overflow": null,
            "overflow_x": null,
            "overflow_y": null,
            "padding": null,
            "right": null,
            "top": null,
            "visibility": null,
            "width": null
          }
        },
        "35f5a8880e104f9e8489b7cab2cb922f": {
          "model_module": "@jupyter-widgets/controls",
          "model_name": "ProgressStyleModel",
          "model_module_version": "1.5.0",
          "state": {
            "_model_module": "@jupyter-widgets/controls",
            "_model_module_version": "1.5.0",
            "_model_name": "ProgressStyleModel",
            "_view_count": null,
            "_view_module": "@jupyter-widgets/base",
            "_view_module_version": "1.2.0",
            "_view_name": "StyleView",
            "bar_color": null,
            "description_width": ""
          }
        },
        "7c17305c1a6047d8a0af43d23898bb61": {
          "model_module": "@jupyter-widgets/base",
          "model_name": "LayoutModel",
          "model_module_version": "1.2.0",
          "state": {
            "_model_module": "@jupyter-widgets/base",
            "_model_module_version": "1.2.0",
            "_model_name": "LayoutModel",
            "_view_count": null,
            "_view_module": "@jupyter-widgets/base",
            "_view_module_version": "1.2.0",
            "_view_name": "LayoutView",
            "align_content": null,
            "align_items": null,
            "align_self": null,
            "border": null,
            "bottom": null,
            "display": null,
            "flex": null,
            "flex_flow": null,
            "grid_area": null,
            "grid_auto_columns": null,
            "grid_auto_flow": null,
            "grid_auto_rows": null,
            "grid_column": null,
            "grid_gap": null,
            "grid_row": null,
            "grid_template_areas": null,
            "grid_template_columns": null,
            "grid_template_rows": null,
            "height": null,
            "justify_content": null,
            "justify_items": null,
            "left": null,
            "margin": null,
            "max_height": null,
            "max_width": null,
            "min_height": null,
            "min_width": null,
            "object_fit": null,
            "object_position": null,
            "order": null,
            "overflow": null,
            "overflow_x": null,
            "overflow_y": null,
            "padding": null,
            "right": null,
            "top": null,
            "visibility": null,
            "width": null
          }
        },
        "a341aa6a74654df8ad7a5922d4900a13": {
          "model_module": "@jupyter-widgets/controls",
          "model_name": "DescriptionStyleModel",
          "model_module_version": "1.5.0",
          "state": {
            "_model_module": "@jupyter-widgets/controls",
            "_model_module_version": "1.5.0",
            "_model_name": "DescriptionStyleModel",
            "_view_count": null,
            "_view_module": "@jupyter-widgets/base",
            "_view_module_version": "1.2.0",
            "_view_name": "StyleView",
            "description_width": ""
          }
        }
      }
    }
  },
  "cells": [
    {
      "cell_type": "markdown",
      "source": [
        "# XAI Assignment 5\n",
        "This is the implementation of XAI Assignment 5.\n",
        "\n",
        "[![Open In Colab](https://colab.research.google.com/assets/colab-badge.svg)](https://colab.research.google.com/github/Anannyachuli/Explainable-Models/blob/main/XAI-5.ipynb)"
      ],
      "metadata": {
        "id": "u8kjbcfTuoMb"
      }
    },
    {
      "cell_type": "markdown",
      "source": [
        "In this notebook, we will be working on a project that demonstrates how to use GPT-2 for sequence classification on a custom dataset. Additionally, we will use explainability tools like LIME to generate local explanations for the model's predictions."
      ],
      "metadata": {
        "id": "MkKJRTezx0Qv"
      }
    },
    {
      "cell_type": "code",
      "source": [
        "!pip install transformers lime scikit-learn pandas numpy matplotlib\n",
        "\n",
        "import pandas as pd\n",
        "import numpy as np\n",
        "from sklearn.model_selection import train_test_split\n",
        "from sklearn.preprocessing import LabelEncoder\n",
        "from transformers import GPT2ForSequenceClassification, GPT2Tokenizer\n",
        "import torch\n",
        "from lime.lime_tabular import LimeTabularExplainer\n",
        "import matplotlib.pyplot as plt"
      ],
      "metadata": {
        "colab": {
          "base_uri": "https://localhost:8080/"
        },
        "id": "GyKnAe988HXO",
        "outputId": "21d5a654-5611-435c-de9c-9a83d222010a"
      },
      "execution_count": 2,
      "outputs": [
        {
          "output_type": "stream",
          "name": "stdout",
          "text": [
            "Requirement already satisfied: transformers in /usr/local/lib/python3.10/dist-packages (4.44.2)\n",
            "Collecting lime\n",
            "  Downloading lime-0.2.0.1.tar.gz (275 kB)\n",
            "\u001b[2K     \u001b[90m━━━━━━━━━━━━━━━━━━━━━━━━━━━━━━━━━━━━━━━━\u001b[0m \u001b[32m275.7/275.7 kB\u001b[0m \u001b[31m8.9 MB/s\u001b[0m eta \u001b[36m0:00:00\u001b[0m\n",
            "\u001b[?25h  Preparing metadata (setup.py) ... \u001b[?25l\u001b[?25hdone\n",
            "Requirement already satisfied: scikit-learn in /usr/local/lib/python3.10/dist-packages (1.5.2)\n",
            "Requirement already satisfied: pandas in /usr/local/lib/python3.10/dist-packages (2.2.2)\n",
            "Requirement already satisfied: numpy in /usr/local/lib/python3.10/dist-packages (1.26.4)\n",
            "Requirement already satisfied: matplotlib in /usr/local/lib/python3.10/dist-packages (3.7.1)\n",
            "Requirement already satisfied: filelock in /usr/local/lib/python3.10/dist-packages (from transformers) (3.16.1)\n",
            "Requirement already satisfied: huggingface-hub<1.0,>=0.23.2 in /usr/local/lib/python3.10/dist-packages (from transformers) (0.24.7)\n",
            "Requirement already satisfied: packaging>=20.0 in /usr/local/lib/python3.10/dist-packages (from transformers) (24.1)\n",
            "Requirement already satisfied: pyyaml>=5.1 in /usr/local/lib/python3.10/dist-packages (from transformers) (6.0.2)\n",
            "Requirement already satisfied: regex!=2019.12.17 in /usr/local/lib/python3.10/dist-packages (from transformers) (2024.9.11)\n",
            "Requirement already satisfied: requests in /usr/local/lib/python3.10/dist-packages (from transformers) (2.32.3)\n",
            "Requirement already satisfied: safetensors>=0.4.1 in /usr/local/lib/python3.10/dist-packages (from transformers) (0.4.5)\n",
            "Requirement already satisfied: tokenizers<0.20,>=0.19 in /usr/local/lib/python3.10/dist-packages (from transformers) (0.19.1)\n",
            "Requirement already satisfied: tqdm>=4.27 in /usr/local/lib/python3.10/dist-packages (from transformers) (4.66.5)\n",
            "Requirement already satisfied: scipy in /usr/local/lib/python3.10/dist-packages (from lime) (1.13.1)\n",
            "Requirement already satisfied: scikit-image>=0.12 in /usr/local/lib/python3.10/dist-packages (from lime) (0.24.0)\n",
            "Requirement already satisfied: joblib>=1.2.0 in /usr/local/lib/python3.10/dist-packages (from scikit-learn) (1.4.2)\n",
            "Requirement already satisfied: threadpoolctl>=3.1.0 in /usr/local/lib/python3.10/dist-packages (from scikit-learn) (3.5.0)\n",
            "Requirement already satisfied: python-dateutil>=2.8.2 in /usr/local/lib/python3.10/dist-packages (from pandas) (2.8.2)\n",
            "Requirement already satisfied: pytz>=2020.1 in /usr/local/lib/python3.10/dist-packages (from pandas) (2024.2)\n",
            "Requirement already satisfied: tzdata>=2022.7 in /usr/local/lib/python3.10/dist-packages (from pandas) (2024.2)\n",
            "Requirement already satisfied: contourpy>=1.0.1 in /usr/local/lib/python3.10/dist-packages (from matplotlib) (1.3.0)\n",
            "Requirement already satisfied: cycler>=0.10 in /usr/local/lib/python3.10/dist-packages (from matplotlib) (0.12.1)\n",
            "Requirement already satisfied: fonttools>=4.22.0 in /usr/local/lib/python3.10/dist-packages (from matplotlib) (4.54.1)\n",
            "Requirement already satisfied: kiwisolver>=1.0.1 in /usr/local/lib/python3.10/dist-packages (from matplotlib) (1.4.7)\n",
            "Requirement already satisfied: pillow>=6.2.0 in /usr/local/lib/python3.10/dist-packages (from matplotlib) (10.4.0)\n",
            "Requirement already satisfied: pyparsing>=2.3.1 in /usr/local/lib/python3.10/dist-packages (from matplotlib) (3.1.4)\n",
            "Requirement already satisfied: fsspec>=2023.5.0 in /usr/local/lib/python3.10/dist-packages (from huggingface-hub<1.0,>=0.23.2->transformers) (2024.6.1)\n",
            "Requirement already satisfied: typing-extensions>=3.7.4.3 in /usr/local/lib/python3.10/dist-packages (from huggingface-hub<1.0,>=0.23.2->transformers) (4.12.2)\n",
            "Requirement already satisfied: six>=1.5 in /usr/local/lib/python3.10/dist-packages (from python-dateutil>=2.8.2->pandas) (1.16.0)\n",
            "Requirement already satisfied: networkx>=2.8 in /usr/local/lib/python3.10/dist-packages (from scikit-image>=0.12->lime) (3.3)\n",
            "Requirement already satisfied: imageio>=2.33 in /usr/local/lib/python3.10/dist-packages (from scikit-image>=0.12->lime) (2.35.1)\n",
            "Requirement already satisfied: tifffile>=2022.8.12 in /usr/local/lib/python3.10/dist-packages (from scikit-image>=0.12->lime) (2024.9.20)\n",
            "Requirement already satisfied: lazy-loader>=0.4 in /usr/local/lib/python3.10/dist-packages (from scikit-image>=0.12->lime) (0.4)\n",
            "Requirement already satisfied: charset-normalizer<4,>=2 in /usr/local/lib/python3.10/dist-packages (from requests->transformers) (3.3.2)\n",
            "Requirement already satisfied: idna<4,>=2.5 in /usr/local/lib/python3.10/dist-packages (from requests->transformers) (3.10)\n",
            "Requirement already satisfied: urllib3<3,>=1.21.1 in /usr/local/lib/python3.10/dist-packages (from requests->transformers) (2.2.3)\n",
            "Requirement already satisfied: certifi>=2017.4.17 in /usr/local/lib/python3.10/dist-packages (from requests->transformers) (2024.8.30)\n",
            "Building wheels for collected packages: lime\n",
            "  Building wheel for lime (setup.py) ... \u001b[?25l\u001b[?25hdone\n",
            "  Created wheel for lime: filename=lime-0.2.0.1-py3-none-any.whl size=283834 sha256=ca2640af3f8f055e7744f7ff3640e8caa70d69176266d0daa3ce1bfbe7850937\n",
            "  Stored in directory: /root/.cache/pip/wheels/fd/a2/af/9ac0a1a85a27f314a06b39e1f492bee1547d52549a4606ed89\n",
            "Successfully built lime\n",
            "Installing collected packages: lime\n",
            "Successfully installed lime-0.2.0.1\n"
          ]
        }
      ]
    },
    {
      "cell_type": "markdown",
      "source": [
        "### Step 1: Library Installation and Imports\n",
        "We begin by importing the necessary libraries. These include:\n",
        "\n",
        "- **Transformers**: For GPT-2 model and tokenizer.\n",
        "- **LIME**: To provide explainability to the model's predictions.\n",
        "- **scikit-learn**: For data preprocessing and splitting.\n",
        "- **pandas/numpy**: For data manipulation and handling."
      ],
      "metadata": {
        "id": "qS2YF9zRx-rQ"
      }
    },
    {
      "cell_type": "code",
      "source": [
        "from sklearn.datasets import load_iris\n",
        "\n",
        "iris = load_iris()\n",
        "X = iris.data\n",
        "y = iris.target\n",
        "\n",
        "# Converting to pandas DataFrame for easier handling\n",
        "df = pd.DataFrame(X, columns=iris.feature_names)\n",
        "df['target'] = y\n",
        "\n",
        "# Splitting the data\n",
        "X_train, X_test, y_train, y_test = train_test_split(X, y, test_size=0.2, random_state=42)\n",
        "\n",
        "# Encoding labels\n",
        "le = LabelEncoder()\n",
        "y_train_encoded = le.fit_transform(y_train)\n",
        "y_test_encoded = le.transform(y_test)"
      ],
      "metadata": {
        "id": "FRkcZZM38J2l"
      },
      "execution_count": 3,
      "outputs": []
    },
    {
      "cell_type": "markdown",
      "source": [
        "### Step 2: Data Loading and Preprocessing\n",
        "In this section, we load the iris dataset and split it into features (`X`) and target labels (`y`). We then perform the following steps:\n",
        "\n",
        "1. **Train-test split**: We split the data into training (80%) and testing (20%) sets to evaluate the model's performance later.\n",
        "2. **Label encoding**: Since GPT-2 requires numeric labels for classification, we use `LabelEncoder` to transform the categorical target labels into numeric form."
      ],
      "metadata": {
        "id": "PA2fW0nEyYV9"
      }
    },
    {
      "cell_type": "code",
      "source": [
        "def features_to_text(features):\n",
        "    return \" \".join([f\"Feature{i+1}: {v:.2f}\" for i, v in enumerate(features)])\n",
        "\n",
        "X_train_text = [features_to_text(x) for x in X_train]\n",
        "X_test_text = [features_to_text(x) for x in X_test]"
      ],
      "metadata": {
        "id": "co9MuLT58MYC"
      },
      "execution_count": 4,
      "outputs": []
    },
    {
      "cell_type": "markdown",
      "source": [
        "### Step 3: Feature Transformation to Text\n",
        "Since GPT-2 is a language model and works on text, we need to convert our structured numeric features into a textual format. The `features_to_text` function transforms each feature into a descriptive text string, labeling each feature value."
      ],
      "metadata": {
        "id": "xGUqaxzQyeQE"
      }
    },
    {
      "cell_type": "code",
      "source": [
        "model_name = \"gpt2\"\n",
        "tokenizer = GPT2Tokenizer.from_pretrained(model_name)\n",
        "tokenizer.pad_token = tokenizer.eos_token\n",
        "model = GPT2ForSequenceClassification.from_pretrained(model_name, num_labels=3)\n",
        "# Set the pad_token_id in the model config\n",
        "model.config.pad_token_id = model.config.eos_token_id"
      ],
      "metadata": {
        "colab": {
          "base_uri": "https://localhost:8080/",
          "height": 403,
          "referenced_widgets": [
            "74fd05ef26e04b9cb66b1790f67f28fe",
            "566febe30fba4b368b3d6eddb1045c4e",
            "c19cc29a89004c1da91c811a095b4936",
            "6ef75cfbff474261931bdb853acb6c33",
            "5fa0466cc95d4a8184708aef794d7cff",
            "a48d43c5e3a74b3e8059c4ba8a8988b5",
            "8cc1921fc064441a958008885c7bfd82",
            "dabb22fa96514565a662b4f8a7b6bb5e",
            "c4529962d724410ab923db1476a8701d",
            "2a7f210f13224f50ba4ce3a3ccc2a223",
            "47050a69b12c4e31b466d0f60f0670c6",
            "b8038e203ea14e40b3a18afacea8f3ed",
            "4ef3219eed784e4fb13d031eb2f3945a",
            "2346c8772e224b9fa65359b17bac2e45",
            "2641ba46a6c74d248b9cd929b5c1b27b",
            "c41eaf7b40764b489fe7f3a2adb57694",
            "748f64ec71614fd591ef659825d70cd2",
            "02e33f22fb55475ebbfcdd373cde6a0a",
            "4d7b365ec99c4337b2a2c27f5f9c0290",
            "4fc092d2ed8d4cfab9432c4ed9bec379",
            "51458610cf4e438bb7ebd959b6b981c6",
            "9caeb4ae3a184e7d90df4894d1061495",
            "ac81b8f856874618b93b0b20b6bfec87",
            "8d0571d17f6549cba3d97b0d19956fc4",
            "45113db9a1684b03b59431c94a526236",
            "4b3f569594ff455e94cb3a97e4a63bf2",
            "30cb6008eb6d48ea962707f6539856f9",
            "6e282c78c3554598a104233a6b93bbe3",
            "7aacff085c4d421990bd8566d5208f7a",
            "f2fa75a7ff4941ac80a20299e4917c34",
            "f6b334c8913d435ebe9e9108ef2b7821",
            "07f9a9881fe74407ac3e0e3aa9df9a16",
            "dc4f24287e7241ff9b8e0c5859f71bbf",
            "de0e37cb4ec84dadb58bd72a7e7befb5",
            "83cf6a94fd6f463a8c94f9b78a4bdc98",
            "5beed97c1109404f9807d6b266d51d6a",
            "72b83fe1f2484570afd0ebb3b0013d23",
            "eb28a926049b4ad7bd1d01c57494d281",
            "c0311ca7904247f0a126e9beff614bb8",
            "1ba88b8ad13c409d8bfd60d926eef01d",
            "6a59184cb0d84c03865f4a0960c4db13",
            "09d946e7ac1841c8a7f38965ae4f6e65",
            "c2c8df7417684ef8968e81abeccc1669",
            "4b47c2c188974e03afeb2e3b1528a7b6",
            "59aba559e1bd42a39b477662ea2a2525",
            "453fb9e1db3046afa611664220ff3972",
            "f27e34d95dce4bbf86c7f0707adc8e98",
            "c8f5cce70fb74daf8c8ced0078152aba",
            "0ba259392cd34f088e7fa4df0963b3c4",
            "4030eca0bd964985b07a0ba8e1eb16fb",
            "b0eb76dda4844c34a82ae490124c1689",
            "3104eafe202f418d9c076d26fb6d27ed",
            "afe96a7540444343a7307512fece1958",
            "c3dfba19c55c4155bf77c7b53c38cd65",
            "9c3a197b75874a0d802d893890979e56",
            "f77f083c66c84d81bdfbebcc3e9556dc",
            "22b6e1c6d1494a0ab6df7e677f8f2dc3",
            "c2e69a493be54ba985d58f8af5d733bf",
            "b15280b993a94bbfad9ae65f81ee3540",
            "17ff4e1dac1740ed89eb899cf6d5e1dc",
            "1cd69c9ffbc846748071f87f1e4f6f82",
            "5e7dac6a499a4583aac5f21b2454db56",
            "b48191dec6a24390aa64ee0fdb58f1d7",
            "35f5a8880e104f9e8489b7cab2cb922f",
            "7c17305c1a6047d8a0af43d23898bb61",
            "a341aa6a74654df8ad7a5922d4900a13"
          ]
        },
        "id": "jG78Hxul8Qbb",
        "outputId": "be816ff0-9f09-4fe7-c904-e9e31dbc7c54"
      },
      "execution_count": 5,
      "outputs": [
        {
          "output_type": "stream",
          "name": "stderr",
          "text": [
            "/usr/local/lib/python3.10/dist-packages/huggingface_hub/utils/_token.py:89: UserWarning: \n",
            "The secret `HF_TOKEN` does not exist in your Colab secrets.\n",
            "To authenticate with the Hugging Face Hub, create a token in your settings tab (https://huggingface.co/settings/tokens), set it as secret in your Google Colab and restart your session.\n",
            "You will be able to reuse this secret in all of your notebooks.\n",
            "Please note that authentication is recommended but still optional to access public models or datasets.\n",
            "  warnings.warn(\n"
          ]
        },
        {
          "output_type": "display_data",
          "data": {
            "text/plain": [
              "tokenizer_config.json:   0%|          | 0.00/26.0 [00:00<?, ?B/s]"
            ],
            "application/vnd.jupyter.widget-view+json": {
              "version_major": 2,
              "version_minor": 0,
              "model_id": "74fd05ef26e04b9cb66b1790f67f28fe"
            }
          },
          "metadata": {}
        },
        {
          "output_type": "display_data",
          "data": {
            "text/plain": [
              "vocab.json:   0%|          | 0.00/1.04M [00:00<?, ?B/s]"
            ],
            "application/vnd.jupyter.widget-view+json": {
              "version_major": 2,
              "version_minor": 0,
              "model_id": "b8038e203ea14e40b3a18afacea8f3ed"
            }
          },
          "metadata": {}
        },
        {
          "output_type": "display_data",
          "data": {
            "text/plain": [
              "merges.txt:   0%|          | 0.00/456k [00:00<?, ?B/s]"
            ],
            "application/vnd.jupyter.widget-view+json": {
              "version_major": 2,
              "version_minor": 0,
              "model_id": "ac81b8f856874618b93b0b20b6bfec87"
            }
          },
          "metadata": {}
        },
        {
          "output_type": "display_data",
          "data": {
            "text/plain": [
              "tokenizer.json:   0%|          | 0.00/1.36M [00:00<?, ?B/s]"
            ],
            "application/vnd.jupyter.widget-view+json": {
              "version_major": 2,
              "version_minor": 0,
              "model_id": "de0e37cb4ec84dadb58bd72a7e7befb5"
            }
          },
          "metadata": {}
        },
        {
          "output_type": "display_data",
          "data": {
            "text/plain": [
              "config.json:   0%|          | 0.00/665 [00:00<?, ?B/s]"
            ],
            "application/vnd.jupyter.widget-view+json": {
              "version_major": 2,
              "version_minor": 0,
              "model_id": "59aba559e1bd42a39b477662ea2a2525"
            }
          },
          "metadata": {}
        },
        {
          "output_type": "stream",
          "name": "stderr",
          "text": [
            "/usr/local/lib/python3.10/dist-packages/transformers/tokenization_utils_base.py:1601: FutureWarning: `clean_up_tokenization_spaces` was not set. It will be set to `True` by default. This behavior will be depracted in transformers v4.45, and will be then set to `False` by default. For more details check this issue: https://github.com/huggingface/transformers/issues/31884\n",
            "  warnings.warn(\n"
          ]
        },
        {
          "output_type": "display_data",
          "data": {
            "text/plain": [
              "model.safetensors:   0%|          | 0.00/548M [00:00<?, ?B/s]"
            ],
            "application/vnd.jupyter.widget-view+json": {
              "version_major": 2,
              "version_minor": 0,
              "model_id": "f77f083c66c84d81bdfbebcc3e9556dc"
            }
          },
          "metadata": {}
        },
        {
          "output_type": "stream",
          "name": "stderr",
          "text": [
            "Some weights of GPT2ForSequenceClassification were not initialized from the model checkpoint at gpt2 and are newly initialized: ['score.weight']\n",
            "You should probably TRAIN this model on a down-stream task to be able to use it for predictions and inference.\n"
          ]
        }
      ]
    },
    {
      "cell_type": "markdown",
      "source": [
        "### Step 4: Model Initialization\n",
        "Here, we initialize the GPT-2 tokenizer and model for sequence classification. Key steps include:\n",
        "\n",
        "1. **Tokenizer setup**: We set the padding token to GPT-2's end-of-sequence (EOS) token since GPT-2 doesn't have a natural padding token.\n",
        "2. **Model setup**: We configure GPT-2 for sequence classification with 3 possible output classes (customizable depending on the number of target labels)."
      ],
      "metadata": {
        "id": "oOSFvlJVyj1H"
      }
    },
    {
      "cell_type": "code",
      "source": [
        "# Tokenize the input\n",
        "train_encodings = tokenizer(X_train_text, truncation=True, padding=True)\n",
        "test_encodings = tokenizer(X_test_text, truncation=True, padding=True)\n"
      ],
      "metadata": {
        "id": "s38dMmVG8WY9"
      },
      "execution_count": 6,
      "outputs": []
    },
    {
      "cell_type": "markdown",
      "source": [
        "### Step 5: Tokenization\n",
        "We convert the textual features into tokenized form using the GPT-2 tokenizer. Tokenization transforms the input into a format the model can understand:\n",
        "\n",
        "- **Truncation**: If sequences are too long, they are truncated.\n",
        "- **Padding**: If sequences are shorter than the maximum length, they are padded to ensure uniform input length."
      ],
      "metadata": {
        "id": "OT_WDlQvyl7g"
      }
    },
    {
      "cell_type": "code",
      "source": [
        "train_dataset = [\n",
        "    {\"input_ids\": torch.tensor(train_encodings['input_ids'][i]),\n",
        "     \"attention_mask\": torch.tensor(train_encodings['attention_mask'][i]),\n",
        "     \"labels\": torch.tensor(y_train_encoded[i])}\n",
        "    for i in range(len(y_train_encoded))\n",
        "]\n",
        "\n",
        "test_dataset = [\n",
        "    {\"input_ids\": torch.tensor(test_encodings['input_ids'][i]),\n",
        "     \"attention_mask\": torch.tensor(test_encodings['attention_mask'][i]),\n",
        "     \"labels\": torch.tensor(y_test_encoded[i])}\n",
        "    for i in range(len(y_test_encoded))\n",
        "]"
      ],
      "metadata": {
        "id": "rJFkcT7q8YSR"
      },
      "execution_count": 7,
      "outputs": []
    },
    {
      "cell_type": "markdown",
      "source": [
        "### Step 9: Dataset Preparation for PyTorch\n",
        "\n",
        "To train and test the GPT-2 model, we need to organize the data into a format compatible with PyTorch. Here’s what each part of the dataset contains:\n",
        "\n",
        "1. **Input IDs**: Tokenized sequences for each instance, converted into tensors.\n",
        "2. **Attention Masks**: These masks tell the model which tokens are actual data and which are padding, helping the model focus only on the relevant part of the input.\n",
        "3. **Labels**: The encoded labels for each instance, also converted into tensors for easy processing during training.\n",
        "\n",
        "By converting these elements into PyTorch tensors, we ensure that the data is in the right format for the model to process during both training and testing phases."
      ],
      "metadata": {
        "id": "Sp4fgjlazSg3"
      }
    },
    {
      "cell_type": "code",
      "source": [
        "# Fine-tune the model\n",
        "from transformers import Trainer, TrainingArguments\n",
        "\n",
        "training_args = TrainingArguments(\n",
        "    output_dir='./results',\n",
        "    num_train_epochs=3,\n",
        "    per_device_train_batch_size=16,\n",
        "    per_device_eval_batch_size=64,\n",
        "    warmup_steps=500,\n",
        "    weight_decay=0.01,\n",
        "    logging_dir='./logs',\n",
        ")\n",
        "\n",
        "trainer = Trainer(\n",
        "    model=model,\n",
        "    args=training_args,\n",
        "    train_dataset=train_dataset,\n",
        "    eval_dataset=test_dataset\n",
        ")\n"
      ],
      "metadata": {
        "id": "LedLAS8A8trp"
      },
      "execution_count": 8,
      "outputs": []
    },
    {
      "cell_type": "markdown",
      "source": [
        "### Step 10: Fine-Tuning the GPT-2 Model\n",
        "\n",
        "In this section, we fine-tune the GPT-2 model on the training dataset. We use the `Trainer` class from Hugging Face’s `transformers` library to simplify the training process. The key components are:\n",
        "\n",
        "1. **Training Arguments**: We define parameters such as:\n",
        "   - `num_train_epochs`: Number of times the model goes through the training dataset (in this case, 3 epochs).\n",
        "   - `per_device_train_batch_size`: Batch size for training on each device, which impacts memory usage.\n",
        "   - `per_device_eval_batch_size`: Batch size used during evaluation (usually larger than training for efficiency).\n",
        "   - `warmup_steps`: Gradually increase the learning rate for the first 500 steps to avoid overshooting during optimization.\n",
        "   - `weight_decay`: Regularization technique to prevent overfitting.\n",
        "   - `logging_dir`: Directory to store logs and checkpoints for model evaluation.\n",
        "\n",
        "2. **Trainer Initialization**:\n",
        "   - The `Trainer` class manages the training loop, evaluation, and logging.\n",
        "   - It takes the model, training arguments, training dataset, and evaluation dataset as inputs, making the fine-tuning process more efficient.\n",
        "\n",
        "The training process will automatically save checkpoints, log the progress, and evaluate the model on the test dataset after each epoch."
      ],
      "metadata": {
        "id": "Yb8ZT7oBzhhy"
      }
    },
    {
      "cell_type": "markdown",
      "source": [],
      "metadata": {
        "id": "bGf8SZyWzTvj"
      }
    },
    {
      "cell_type": "code",
      "source": [
        "trainer.train()"
      ],
      "metadata": {
        "colab": {
          "base_uri": "https://localhost:8080/",
          "height": 110
        },
        "id": "5wOVL7oK8e_7",
        "outputId": "d02f7646-3149-4cdf-9a2f-fa582f20dc6c"
      },
      "execution_count": 9,
      "outputs": [
        {
          "output_type": "display_data",
          "data": {
            "text/plain": [
              "<IPython.core.display.HTML object>"
            ],
            "text/html": [
              "\n",
              "    <div>\n",
              "      \n",
              "      <progress value='24' max='24' style='width:300px; height:20px; vertical-align: middle;'></progress>\n",
              "      [24/24 00:08, Epoch 3/3]\n",
              "    </div>\n",
              "    <table border=\"1\" class=\"dataframe\">\n",
              "  <thead>\n",
              " <tr style=\"text-align: left;\">\n",
              "      <th>Step</th>\n",
              "      <th>Training Loss</th>\n",
              "    </tr>\n",
              "  </thead>\n",
              "  <tbody>\n",
              "  </tbody>\n",
              "</table><p>"
            ]
          },
          "metadata": {}
        },
        {
          "output_type": "execute_result",
          "data": {
            "text/plain": [
              "TrainOutput(global_step=24, training_loss=3.181550661722819, metrics={'train_runtime': 12.4658, 'train_samples_per_second': 28.879, 'train_steps_per_second': 1.925, 'total_flos': 4409422479360.0, 'train_loss': 3.181550661722819, 'epoch': 3.0})"
            ]
          },
          "metadata": {},
          "execution_count": 9
        }
      ]
    },
    {
      "cell_type": "code",
      "source": [
        "import torch\n",
        "\n",
        "# Clear GPU cache\n",
        "torch.cuda.empty_cache()\n",
        "\n",
        "# Move model to CPU for explanations\n",
        "model = model.cpu()\n"
      ],
      "metadata": {
        "id": "4YNyUt2i9vqB"
      },
      "execution_count": 10,
      "outputs": []
    },
    {
      "cell_type": "markdown",
      "source": [],
      "metadata": {
        "id": "MAopvnQMzjIs"
      }
    },
    {
      "cell_type": "code",
      "source": [
        "def model_predict(input_text):\n",
        "    inputs = tokenizer(input_text, return_tensors=\"pt\", truncation=True, padding=True)\n",
        "    with torch.no_grad():\n",
        "        outputs = model(**inputs)\n",
        "    probs = torch.nn.functional.softmax(outputs.logits, dim=-1)\n",
        "    return probs.numpy()\n"
      ],
      "metadata": {
        "id": "N4hHas3R9GZa"
      },
      "execution_count": 11,
      "outputs": []
    },
    {
      "cell_type": "markdown",
      "source": [
        "### Step 11: Making Predictions with the Fine-Tuned Model\n",
        "\n",
        "In this section, we define a helper function `model_predict` to generate predictions for a given input text. The steps are as follows:\n",
        "\n",
        "1. **Tokenization**: The input text is tokenized using the same GPT-2 tokenizer that was used for training. It converts the text into a format suitable for GPT-2, with padding and truncation as needed.\n",
        "2. **Inference Mode**: The `torch.no_grad()` context ensures that no gradients are computed during the forward pass, saving memory and speeding up inference. This is especially important for deployment.\n",
        "3. **Model Prediction**: The tokenized inputs are passed through the model, which outputs raw logits (unprocessed predictions).\n",
        "4. **Softmax**: The logits are converted into probabilities using the softmax function, which normalizes the outputs into a probability distribution over the possible classes.\n",
        "5. **Return as NumPy Array**: The final probabilities are returned as a NumPy array, making them easier to work with for further processing or analysis.\n",
        "\n",
        "This function is useful for testing individual examples and getting the predicted probabilities for each class."
      ],
      "metadata": {
        "id": "1D8zwNWWz07v"
      }
    },
    {
      "cell_type": "markdown",
      "source": [],
      "metadata": {
        "id": "UCNHwtd9zkAJ"
      }
    },
    {
      "cell_type": "code",
      "source": [
        "# Reduce the number of samples and features in LIME\n",
        "explainer = LimeTabularExplainer(X_train,\n",
        "                                 feature_names=iris.feature_names,\n",
        "                                 class_names=iris.target_names,\n",
        "                                 mode='classification',\n",
        "                                 training_labels=y_train)"
      ],
      "metadata": {
        "id": "EnxFxcLQ929_"
      },
      "execution_count": 12,
      "outputs": []
    },
    {
      "cell_type": "markdown",
      "source": [
        "### Step 12: Setting Up LIME for Explainability\n",
        "\n",
        "In this step, we configure **LIME (Local Interpretable Model-agnostic Explanations)** to generate explanations for individual predictions from our model. Since we're reducing the number of samples and features, here’s a breakdown of the parameters used:\n",
        "\n",
        "1. **X_train**: This is the training data provided to LIME to help generate local explanations. We are passing a reduced subset of the original training set for faster, more manageable computation.\n",
        "2. **feature_names**: These are the names of the features in the dataset. By passing these, LIME can return explanations that are easily interpretable by associating the feature index with the actual feature name.\n",
        "3. **class_names**: These are the names of the classes (target labels). By passing the class names, the explanations become more human-readable as they link the model’s predictions to specific class labels.\n",
        "4. **mode**: We specify that this is a classification task, which means LIME will focus on explaining why the model predicted a particular class for an instance.\n",
        "5. **training_labels**: The labels of the training data are passed to help LIME generate class-specific explanations. This ensures the explanations map to the correct classes in the classification task.\n",
        "\n",
        "By reducing the number of samples and features, the explanation process becomes faster, and we focus on a simplified version of the dataset, which can be useful for prototyping and testing."
      ],
      "metadata": {
        "id": "z3emJHqJ0K6g"
      }
    },
    {
      "cell_type": "code",
      "source": [
        "# Choose a sample to explain\n",
        "sample_idx = 0\n",
        "numerical_instance = X_test[sample_idx]"
      ],
      "metadata": {
        "id": "oATZOe3A9IPG"
      },
      "execution_count": 13,
      "outputs": []
    },
    {
      "cell_type": "code",
      "source": [
        "# Generate explanation with reduced samples\n",
        "exp = explainer.explain_instance(numerical_instance,\n",
        "                                 lambda x: model_predict([features_to_text(xi) for xi in x]),\n",
        "                                 num_features=4,\n",
        "                                 num_samples=100)  # Reduced from default 5000\n",
        "\n"
      ],
      "metadata": {
        "id": "BAKHpL9G9Kxm"
      },
      "execution_count": 14,
      "outputs": []
    },
    {
      "cell_type": "markdown",
      "source": [
        "### Step 13: Generating LIME Explanation with Reduced Samples\n",
        "\n",
        "In this step, we use the LIME explainer to generate an explanation for a single data instance. We reduce the number of features and samples to make the process faster and more focused. Here’s a breakdown:\n",
        "\n",
        "1. **numerical_instance**: This is the instance for which we want to generate an explanation. It's in numerical form and represents the features of the data point that was passed to the model.\n",
        "   \n",
        "2. **Prediction Function**: We pass a lambda function that processes the input by converting the features into text (as the model expects text input), then generates predictions using the `model_predict` function. This step bridges the gap between structured numeric data and the text-based model.\n",
        "   \n",
        "3. **num_features=4**: We limit the explanation to the top 4 most important features contributing to the model's prediction. This makes the explanation more concise and easier to interpret.\n",
        "   \n",
        "4. **num_samples=100**: We reduce the number of samples used by LIME from the default (5000) to 100. LIME works by generating new data points around the instance and analyzing how the model behaves with those points. Reducing the number of samples speeds up this process, especially useful during early experimentation or when working with large datasets.\n",
        "\n",
        "By reducing the number of features and samples, we strike a balance between explanation speed and comprehensiveness, ensuring that the process is efficient while still providing meaningful insights."
      ],
      "metadata": {
        "id": "ousH7Ubc0klN"
      }
    },
    {
      "cell_type": "code",
      "source": [
        "# Visualize the explanation\n",
        "fig = exp.as_pyplot_figure()\n",
        "plt.title(\"LIME Explanation for Sample Prediction\")\n",
        "plt.tight_layout()\n",
        "plt.show()"
      ],
      "metadata": {
        "colab": {
          "base_uri": "https://localhost:8080/",
          "height": 487
        },
        "id": "dZsz_Iyr-G1W",
        "outputId": "de90f443-3092-430d-d8d0-69eb7eb91ad3"
      },
      "execution_count": 15,
      "outputs": [
        {
          "output_type": "display_data",
          "data": {
            "text/plain": [
              "<Figure size 640x480 with 1 Axes>"
            ],
            "image/png": "[encoded data removed]"
          },
          "metadata": {}
        }
      ]
    },
    {
      "cell_type": "code",
      "source": [
        "import numpy as np\n",
        "import matplotlib.pyplot as plt\n",
        "import seaborn as sns\n",
        "\n",
        "# Convert the contributions to a NumPy array for heatmap plotting\n",
        "contributions = np.array([contribution[1] for contribution in lime_feature_importance])\n",
        "\n",
        "# Increase figure size and DPI for better clarity\n",
        "plt.figure(figsize=(10, 4), dpi=150)\n",
        "\n",
        "# Create the heatmap with a different colormap and formatted annotations for more precision\n",
        "sns.heatmap(contributions.reshape(1, -1),\n",
        "            annot=True,\n",
        "            fmt='.3f',  # Display more decimal places\n",
        "            cmap='RdBu',  # Try different colormap for better contrast\n",
        "            cbar=True,\n",
        "            xticklabels=[f[0] for f in lime_feature_importance])\n",
        "\n",
        "# Title and layout adjustments for better clarity\n",
        "plt.title(\"Heatmap of LIME Feature Contributions\")\n",
        "plt.yticks([])  # Hide y-axis as it's unnecessary for this visualization\n",
        "plt.tight_layout()\n",
        "\n",
        "# Display the heatmap\n",
        "plt.show()\n",
        "plt.show()"
      ],
      "metadata": {
        "colab": {
          "base_uri": "https://localhost:8080/",
          "height": 602
        },
        "id": "KesOJvUB20Ta",
        "outputId": "3a0170bb-ae36-4bee-b635-ec4e86aafc5b"
      },
      "execution_count": 18,
      "outputs": [
        {
          "output_type": "display_data",
          "data": {
            "text/plain": [
              "<Figure size 1500x600 with 2 Axes>"
            ],
            "image/png": "[encoded data removed]"
          },
          "metadata": {}
        }
      ]
    },
    {
      "cell_type": "code",
      "source": [
        "import matplotlib.pyplot as plt\n",
        "import numpy as np\n",
        "\n",
        "# Extract feature names and contributions from LIME explanation\n",
        "feature_names = [f[0] for f in lime_feature_importance]\n",
        "contributions = np.array([f[1] for f in lime_feature_importance])\n",
        "\n",
        "# Calculate the base value (can be the mean or another value, typically set to 0 for LIME)\n",
        "base_value = 0\n",
        "\n",
        "# Cumulative sum for contributions to plot the progression towards final prediction\n",
        "cumulative_sum = np.cumsum(contributions)\n",
        "\n",
        "# Define the force plot layout\n",
        "plt.figure(figsize=(10, 4))\n",
        "plt.axhline(y=base_value, color='black', linestyle='--')\n",
        "\n",
        "# Plot the individual feature contributions as arrows\n",
        "for i, (feature, contrib) in enumerate(zip(feature_names, contributions)):\n",
        "    plt.arrow(i, base_value, 0, contrib, head_width=0.2, head_length=0.02,\n",
        "              color='red' if contrib < 0 else 'green', length_includes_head=True)\n",
        "    base_value += contrib\n",
        "\n",
        "# Add the feature names as x-axis labels\n",
        "plt.xticks(np.arange(len(feature_names)), feature_names, rotation=45, ha=\"right\")\n",
        "plt.title(\"Force Plot of LIME Feature Contributions\")\n",
        "plt.ylabel(\"Contribution Value\")\n",
        "plt.tight_layout()\n",
        "plt.show()"
      ],
      "metadata": {
        "colab": {
          "base_uri": "https://localhost:8080/",
          "height": 407
        },
        "id": "Mr2PgML-3mRC",
        "outputId": "85311c4e-13a6-4f59-a66d-4c8375bb684d"
      },
      "execution_count": 19,
      "outputs": [
        {
          "output_type": "display_data",
          "data": {
            "text/plain": [
              "<Figure size 1000x400 with 1 Axes>"
            ],
            "image/png": "[encoded data removed]"
          },
          "metadata": {}
        }
      ]
    },
    {
      "cell_type": "markdown",
      "source": [
        "**Key Features of the Force Plot:**\n",
        "\n",
        "\t1.\tArrows: Each feature is represented as an arrow, pushing the model’s prediction either upwards (positive contribution) or downwards (negative contribution).\n",
        "\t2.\tCumulative Effect: The contributions are cumulative, which means the force plot visually shows how the final prediction is reached as features are considered in order.\n",
        "\t3.\tColor Coding: Arrows are color-coded (e.g., red for negative contributions and green for positive contributions), giving a quick visual sense of which features drive the model towards or away from a prediction.\n",
        "\n",
        "\n",
        "  When to Use:\n",
        "\n",
        "\t•\tWhen you want to see the dynamic interaction of features and their cumulative effect on the final prediction.\n",
        "\t•\tWhen it’s important to visualize the push-pull effect of features driving a prediction either positively or negatively."
      ],
      "metadata": {
        "id": "C1KkQWc43t4j"
      }
    },
    {
      "cell_type": "markdown",
      "source": [
        "### Step 14: Visualizing the LIME Explanation\n",
        "\n",
        "In this final step, we use **matplotlib** to visualize the LIME explanation. Here’s how each part of the code works:\n",
        "\n",
        "1. **`exp.as_pyplot_figure()`**: This method converts the LIME explanation into a matplotlib figure. It shows how different features (in this case, the top 4) contributed to the model’s prediction. Positive contributions push the prediction towards the predicted class, and negative contributions push it away.\n",
        "   \n",
        "2. **`plt.title()`**: Adds a descriptive title to the plot to clarify that it represents a LIME explanation for a specific sample's prediction.\n",
        "\n",
        "3. **`plt.tight_layout()`**: Automatically adjusts the layout of the plot so that labels and content don’t overlap. This ensures that the plot is clean and easy to read.\n",
        "\n",
        "4. **`plt.show()`**: Displays the plot so that we can visually inspect the explanation. The plot will highlight the relative importance of each feature in determining the model's prediction for the sample.\n",
        "\n",
        "The LIME visualization provides an intuitive breakdown of how the model interprets the given sample, helping us understand the decision-making process of the black-box model."
      ],
      "metadata": {
        "id": "-yNIoJtb02uZ"
      }
    },
    {
      "cell_type": "markdown",
      "source": [
        "**Discussion: Explanation Technique Selection**\n",
        "\n",
        "For this project, we used LIME (Local Interpretable Model-Agnostic Explanations) as the explanation technique to interpret the predictions made by the fine-tuned GPT-2 model on the Iris dataset. LIME was chosen because it provides local explanations, which focus on explaining the model’s predictions for individual instances by perturbing the input data and observing the changes in model predictions.\n",
        "\n",
        "Strengths of Using LIME:\n",
        "\n",
        "\t1.\tModel-Agnostic: LIME is compatible with any model, including black-box models like GPT-2. This flexibility allows us to interpret complex models, such as transformer-based architectures, without requiring any changes to the model itself.\n",
        "\t2.\tLocal Explanations: Since LIME focuses on explaining individual predictions rather than global model behavior, it helps us understand how the model behaves for specific instances. This is especially useful when analyzing specific edge cases or when model behavior varies greatly across different data points.\n",
        "\t3.\tFeature-Level Insights: LIME provides detailed insights into the impact of individual features on a model’s prediction, allowing us to see which features contribute most to the outcome. For structured datasets like Iris, it helps bridge the gap between numeric features and text-based models by converting them into an interpretable format.\n",
        "\t4.\tVisual Interpretability: LIME produces easy-to-interpret visualizations (via matplotlib), showing positive and negative contributions of features to the prediction. These visuals are crucial for communicating the model’s decision-making process to non-technical stakeholders.\n",
        "\n",
        "Limitations of LIME:\n",
        "\n",
        "\t1.\tApproximation Nature: LIME approximates the model’s local behavior using simpler, interpretable models. While this provides useful insights, it is not always guaranteed to capture the exact decision-making logic of the underlying model. The explanations may not fully reflect the true complexity of a large transformer model like GPT-2.\n",
        "\t2.\tSampling-based Approach: LIME relies on perturbing the input data to generate synthetic samples and observe the resulting changes in predictions. This can introduce noise, and the explanations may vary depending on the sampling process. Also, reducing the number of samples (e.g., from 5000 to 100) speeds up the process but may reduce the accuracy of the explanations.\n",
        "\t3.\tLocal Scope: LIME only explains one instance at a time, and the explanations are not global. This can be a limitation if the goal is to understand the overall behavior of the model. It doesn’t provide insights into how the model behaves across all data points, only for a specific input.\n",
        "\n",
        "Potential Improvements:\n",
        "\n",
        "\t1.\tCombining LIME with Global Explainability: A potential improvement to this approach would be to combine LIME with a global explainability technique such as SHAP (SHapley Additive exPlanations). SHAP provides both local and global explanations, offering insights into the model’s behavior for individual predictions as well as an overall understanding of feature importance across the dataset.\n",
        "\t2.\tOptimizing Sample Size: While reducing the number of samples in LIME from 5000 to 100 improves computational efficiency, it can lead to less reliable explanations. One way to address this would be to explore dynamic sample sizes, where we start with fewer samples and gradually increase them based on the complexity of the instance being explained.\n",
        "\t3.\tFine-tuning the Tokenization Process: Since GPT-2 is inherently a text-based model, structured numeric data like the Iris dataset must be converted into text. Further refinement in the process of transforming numeric features into interpretable text could improve how well the model leverages the structured data, and in turn, make the LIME explanations more meaningful.\n",
        "\t4.\tExploring Anchors: Anchors are another explainability technique that focuses on providing more precise conditions (rules) under which the model is confident in its predictions. Incorporating anchors alongside LIME could offer complementary insights, with LIME providing feature importance and anchors providing precise rules that determine the prediction."
      ],
      "metadata": {
        "id": "Q3tx8J7H1W2K"
      }
    }
  ]
}